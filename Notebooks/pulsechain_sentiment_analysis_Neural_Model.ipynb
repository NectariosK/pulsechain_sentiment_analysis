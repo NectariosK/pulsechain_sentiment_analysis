{
  "nbformat": 4,
  "nbformat_minor": 0,
  "metadata": {
    "colab": {
      "provenance": []
    },
    "kernelspec": {
      "name": "python3",
      "display_name": "Python 3"
    },
    "language_info": {
      "name": "python"
    }
  },
  "cells": [
    {
      "cell_type": "markdown",
      "source": [
        "## Integrated Approach to Sentiment Analysis: Leveraging Neural Model/Networks"
      ],
      "metadata": {
        "id": "93Q2Mn1FSgxq"
      }
    },
    {
      "cell_type": "markdown",
      "source": [
        "Step 1: Import Required Libraries"
      ],
      "metadata": {
        "id": "Nm7nAQzATwV0"
      }
    },
    {
      "cell_type": "code",
      "execution_count": 1,
      "metadata": {
        "id": "H1b8uK31Sd4I"
      },
      "outputs": [],
      "source": [
        "import tensorflow as tf\n",
        "from tensorflow.keras.models import Sequential\n",
        "from tensorflow.keras.layers import Dense, Dropout, Embedding, GlobalAveragePooling1D\n",
        "from tensorflow.keras.preprocessing.text import Tokenizer\n",
        "from tensorflow.keras.preprocessing.sequence import pad_sequences\n",
        "from tensorflow.keras.callbacks import ModelCheckpoint\n",
        "from sklearn.preprocessing import LabelEncoder\n",
        "from sklearn.metrics import classification_report, confusion_matrix, accuracy_score\n",
        "import matplotlib.pyplot as plt\n",
        "import seaborn as sns\n",
        "import pandas as pd\n",
        "import os"
      ]
    },
    {
      "cell_type": "markdown",
      "source": [
        "Step 2: Mount Google Drive"
      ],
      "metadata": {
        "id": "0tK_ND-GT2aj"
      }
    },
    {
      "cell_type": "code",
      "source": [
        "from google.colab import drive\n",
        "drive.mount('/content/drive')"
      ],
      "metadata": {
        "colab": {
          "base_uri": "https://localhost:8080/"
        },
        "id": "jXnlNOWKT0f4",
        "outputId": "8ae4fd98-7747-4cb8-f4ab-939208a4d911"
      },
      "execution_count": 2,
      "outputs": [
        {
          "output_type": "stream",
          "name": "stdout",
          "text": [
            "Mounted at /content/drive\n"
          ]
        }
      ]
    },
    {
      "cell_type": "code",
      "source": [
        "df = pd.read_csv('drive/MyDrive/labeled_reddit_comments.csv')"
      ],
      "metadata": {
        "id": "rwXtwpzZT-Si"
      },
      "execution_count": 3,
      "outputs": []
    },
    {
      "cell_type": "code",
      "source": [
        "# Print column names to verify\n",
        "print(df.columns)"
      ],
      "metadata": {
        "colab": {
          "base_uri": "https://localhost:8080/"
        },
        "id": "Frgs-m_uZrsP",
        "outputId": "891d48ed-8415-47cf-96d6-a292bb26c773"
      },
      "execution_count": 4,
      "outputs": [
        {
          "output_type": "stream",
          "name": "stdout",
          "text": [
            "Index(['Title', 'Comment', 'cleaned_comment', 'Cluster', 'Label', 'svd-one',\n",
            "       'svd-two'],\n",
            "      dtype='object')\n"
          ]
        }
      ]
    },
    {
      "cell_type": "markdown",
      "source": [
        "Step 3: Load and Prepare Data"
      ],
      "metadata": {
        "id": "3O2w_cjWUAP0"
      }
    },
    {
      "cell_type": "code",
      "source": [
        "# Assuming 'Comment' column contains your text data and 'Label' contains labels\n",
        "X = df['Comment'].astype(str)  # Ensure all elements are strings\n",
        "y = df['Label']\n",
        "\n",
        "# Handle missing values if any\n",
        "X.fillna('', inplace=True)  # Replace NaNs with empty string\n",
        "\n",
        "# Split the data into training and testing sets\n",
        "from sklearn.model_selection import train_test_split\n",
        "X_train, X_test, y_train, y_test = train_test_split(X, y, test_size=0.2, random_state=42)\n",
        "\n",
        "# Tokenize the comments\n",
        "tokenizer = Tokenizer()\n",
        "tokenizer.fit_on_texts(X_train)\n",
        "X_train_tokenized = tokenizer.texts_to_sequences(X_train)\n",
        "X_test_tokenized = tokenizer.texts_to_sequences(X_test)\n",
        "\n",
        "max_len = max([len(x) for x in X_train_tokenized])\n",
        "X_train_padded = pad_sequences(X_train_tokenized, maxlen=max_len, padding='post')\n",
        "X_test_padded = pad_sequences(X_test_tokenized, maxlen=max_len, padding='post')\n",
        "\n",
        "# Encode labels if needed (for example, if 'Label' is categorical)\n",
        "encoder = LabelEncoder()\n",
        "y_train_encoded = encoder.fit_transform(y_train)\n",
        "y_test_encoded = encoder.transform(y_test)\n",
        "\n",
        "# Get the number of unique labels (num_clusters)\n",
        "num_clusters = len(encoder.classes_)"
      ],
      "metadata": {
        "id": "4TD3D35xUEtS"
      },
      "execution_count": 7,
      "outputs": []
    },
    {
      "cell_type": "markdown",
      "source": [
        "Step 4: Define and Compile the Model\n",
        "Define the neural network architecture."
      ],
      "metadata": {
        "id": "lAhjW6xYUH4A"
      }
    },
    {
      "cell_type": "code",
      "source": [
        "def create_model():\n",
        "    model = Sequential([\n",
        "        Embedding(input_dim=len(tokenizer.word_index) + 1, output_dim=128, input_length=max_len),\n",
        "        GlobalAveragePooling1D(),\n",
        "        Dense(128, activation='relu'),\n",
        "        Dropout(0.5),\n",
        "        Dense(64, activation='relu'),\n",
        "        Dropout(0.5),\n",
        "        Dense(num_clusters, activation='softmax')\n",
        "    ])\n",
        "\n",
        "    model.compile(optimizer='adam', loss='sparse_categorical_crossentropy', metrics=['accuracy'])\n",
        "    return model\n",
        "\n",
        "model = create_model()\n"
      ],
      "metadata": {
        "id": "ffdGnWS6UNRq"
      },
      "execution_count": 8,
      "outputs": []
    },
    {
      "cell_type": "markdown",
      "source": [
        "Step 5: Train the Model with Validation and Model Checkpointing\n",
        "Implement the training loop where you save the best model based on validation loss."
      ],
      "metadata": {
        "id": "WUz0vjvZUOsA"
      }
    },
    {
      "cell_type": "code",
      "source": [
        "# Define checkpoint callback to save the best model\n",
        "checkpoint_path = '/content/drive/MyDrive/models/best_model.h5'\n",
        "checkpoint = ModelCheckpoint(checkpoint_path, monitor='val_loss', verbose=1, save_best_only=True, mode='min')\n",
        "\n",
        "# Train the model with validation split and using callbacks\n",
        "history = model.fit(X_train_padded, y_train_encoded, epochs=10, batch_size=32, validation_split=0.2, callbacks=[checkpoint])"
      ],
      "metadata": {
        "colab": {
          "base_uri": "https://localhost:8080/"
        },
        "id": "QGXynOvYURQF",
        "outputId": "46759733-25fb-4a25-e85d-3d2a733c0c06"
      },
      "execution_count": 9,
      "outputs": [
        {
          "metadata": {
            "tags": null
          },
          "name": "stdout",
          "output_type": "stream",
          "text": [
            "Epoch 1/10\n",
            "2212/2212 [==============================] - ETA: 0s - loss: 0.4711 - accuracy: 0.8758\n",
            "Epoch 1: val_loss improved from inf to 0.34151, saving model to /content/drive/MyDrive/models/best_model.h5\n"
          ]
        },
        {
          "metadata": {
            "tags": null
          },
          "name": "stderr",
          "output_type": "stream",
          "text": [
            "/usr/local/lib/python3.10/dist-packages/keras/src/engine/training.py:3103: UserWarning: You are saving your model as an HDF5 file via `model.save()`. This file format is considered legacy. We recommend using instead the native Keras format, e.g. `model.save('my_model.keras')`.\n",
            "  saving_api.save_model(\n"
          ]
        },
        {
          "output_type": "stream",
          "name": "stdout",
          "text": [
            "2212/2212 [==============================] - 582s 262ms/step - loss: 0.4711 - accuracy: 0.8758 - val_loss: 0.3415 - val_accuracy: 0.8819\n",
            "Epoch 2/10\n",
            "2212/2212 [==============================] - ETA: 0s - loss: 0.1919 - accuracy: 0.9275\n",
            "Epoch 2: val_loss improved from 0.34151 to 0.13280, saving model to /content/drive/MyDrive/models/best_model.h5\n",
            "2212/2212 [==============================] - 591s 267ms/step - loss: 0.1919 - accuracy: 0.9275 - val_loss: 0.1328 - val_accuracy: 0.9421\n",
            "Epoch 3/10\n",
            "2212/2212 [==============================] - ETA: 0s - loss: 0.1354 - accuracy: 0.9424\n",
            "Epoch 3: val_loss improved from 0.13280 to 0.12753, saving model to /content/drive/MyDrive/models/best_model.h5\n",
            "2212/2212 [==============================] - 605s 274ms/step - loss: 0.1354 - accuracy: 0.9424 - val_loss: 0.1275 - val_accuracy: 0.9414\n",
            "Epoch 4/10\n",
            "2212/2212 [==============================] - ETA: 0s - loss: 0.1209 - accuracy: 0.9471\n",
            "Epoch 4: val_loss did not improve from 0.12753\n",
            "2212/2212 [==============================] - 604s 273ms/step - loss: 0.1209 - accuracy: 0.9471 - val_loss: 0.1403 - val_accuracy: 0.9388\n",
            "Epoch 5/10\n",
            "2212/2212 [==============================] - ETA: 0s - loss: 0.1140 - accuracy: 0.9524\n",
            "Epoch 5: val_loss improved from 0.12753 to 0.11682, saving model to /content/drive/MyDrive/models/best_model.h5\n",
            "2212/2212 [==============================] - 601s 272ms/step - loss: 0.1140 - accuracy: 0.9524 - val_loss: 0.1168 - val_accuracy: 0.9598\n",
            "Epoch 6/10\n",
            "2212/2212 [==============================] - ETA: 0s - loss: 0.0661 - accuracy: 0.9791\n",
            "Epoch 6: val_loss improved from 0.11682 to 0.08586, saving model to /content/drive/MyDrive/models/best_model.h5\n",
            "2212/2212 [==============================] - 594s 269ms/step - loss: 0.0661 - accuracy: 0.9791 - val_loss: 0.0859 - val_accuracy: 0.9818\n",
            "Epoch 7/10\n",
            "2212/2212 [==============================] - ETA: 0s - loss: 0.0437 - accuracy: 0.9883\n",
            "Epoch 7: val_loss did not improve from 0.08586\n",
            "2212/2212 [==============================] - 591s 267ms/step - loss: 0.0437 - accuracy: 0.9883 - val_loss: 0.0868 - val_accuracy: 0.9816\n",
            "Epoch 8/10\n",
            "2212/2212 [==============================] - ETA: 0s - loss: 0.0335 - accuracy: 0.9909\n",
            "Epoch 8: val_loss improved from 0.08586 to 0.07823, saving model to /content/drive/MyDrive/models/best_model.h5\n",
            "2212/2212 [==============================] - 600s 271ms/step - loss: 0.0335 - accuracy: 0.9909 - val_loss: 0.0782 - val_accuracy: 0.9825\n",
            "Epoch 9/10\n",
            "2212/2212 [==============================] - ETA: 0s - loss: 0.0319 - accuracy: 0.9916\n",
            "Epoch 9: val_loss improved from 0.07823 to 0.07700, saving model to /content/drive/MyDrive/models/best_model.h5\n",
            "2212/2212 [==============================] - 600s 271ms/step - loss: 0.0319 - accuracy: 0.9916 - val_loss: 0.0770 - val_accuracy: 0.9812\n",
            "Epoch 10/10\n",
            "2212/2212 [==============================] - ETA: 0s - loss: 0.0304 - accuracy: 0.9923\n",
            "Epoch 10: val_loss improved from 0.07700 to 0.07027, saving model to /content/drive/MyDrive/models/best_model.h5\n",
            "2212/2212 [==============================] - 595s 269ms/step - loss: 0.0304 - accuracy: 0.9923 - val_loss: 0.0703 - val_accuracy: 0.9833\n"
          ]
        }
      ]
    },
    {
      "cell_type": "markdown",
      "source": [
        "Step 6: Evaluate the Best Model\n",
        "Load the best model saved during training and evaluate it on the test set."
      ],
      "metadata": {
        "id": "_0K0F7WTX4UZ"
      }
    },
    {
      "cell_type": "code",
      "source": [
        "# Load the best model saved during training\n",
        "best_model = tf.keras.models.load_model(checkpoint_path)\n",
        "\n",
        "# Evaluate the best model on the test set\n",
        "y_pred_probs = best_model.predict(X_test_padded)\n",
        "y_pred = y_pred_probs.argmax(axis=1)\n",
        "\n",
        "# Ensure y_pred is cast to integers\n",
        "y_pred = y_pred.astype(int)\n",
        "\n",
        "# Calculate accuracy\n",
        "nn_accuracy = accuracy_score(y_test_encoded, y_pred)\n",
        "print(\"Neural Network Accuracy:\", nn_accuracy)\n",
        "\n",
        "# Clean up encoder.classes_ and ensure it contains valid string labels\n",
        "cleaned_classes = [label for label in encoder.classes_ if isinstance(label, str)]\n",
        "\n",
        "# Print classification report using cleaned_classes\n",
        "print(\"Encoded Classes:\", cleaned_classes)\n",
        "print(\"Predicted Values:\", y_pred)\n",
        "print(classification_report(y_test_encoded, y_pred, labels=encoder.transform(cleaned_classes), target_names=cleaned_classes))\n"
      ],
      "metadata": {
        "colab": {
          "base_uri": "https://localhost:8080/"
        },
        "id": "ujBhiaxRX5L4",
        "outputId": "56b1e15a-62f3-43da-ed86-ba84b71e11d4"
      },
      "execution_count": 15,
      "outputs": [
        {
          "output_type": "stream",
          "name": "stdout",
          "text": [
            "692/692 [==============================] - 10s 15ms/step\n",
            "Neural Network Accuracy: 0.9841277019082934\n",
            "Encoded Classes: ['0.00016822768213157398', 'negative', 'neutral', 'positive']\n",
            "Predicted Values: [1 3 1 ... 1 2 1]\n",
            "                        precision    recall  f1-score   support\n",
            "\n",
            "0.00016822768213157398       0.00      0.00      0.00         0\n",
            "              negative       0.99      0.99      0.99     19321\n",
            "               neutral       0.89      0.98      0.93      1073\n",
            "              positive       0.94      0.94      0.94      1720\n",
            "\n",
            "             micro avg       0.98      0.98      0.98     22114\n",
            "             macro avg       0.70      0.73      0.72     22114\n",
            "          weighted avg       0.98      0.98      0.98     22114\n",
            "\n"
          ]
        },
        {
          "output_type": "stream",
          "name": "stderr",
          "text": [
            "/usr/local/lib/python3.10/dist-packages/sklearn/metrics/_classification.py:1344: UndefinedMetricWarning: Precision and F-score are ill-defined and being set to 0.0 in labels with no predicted samples. Use `zero_division` parameter to control this behavior.\n",
            "  _warn_prf(average, modifier, msg_start, len(result))\n",
            "/usr/local/lib/python3.10/dist-packages/sklearn/metrics/_classification.py:1344: UndefinedMetricWarning: Recall and F-score are ill-defined and being set to 0.0 in labels with no true samples. Use `zero_division` parameter to control this behavior.\n",
            "  _warn_prf(average, modifier, msg_start, len(result))\n",
            "/usr/local/lib/python3.10/dist-packages/sklearn/metrics/_classification.py:1344: UndefinedMetricWarning: Precision and F-score are ill-defined and being set to 0.0 in labels with no predicted samples. Use `zero_division` parameter to control this behavior.\n",
            "  _warn_prf(average, modifier, msg_start, len(result))\n",
            "/usr/local/lib/python3.10/dist-packages/sklearn/metrics/_classification.py:1344: UndefinedMetricWarning: Recall and F-score are ill-defined and being set to 0.0 in labels with no true samples. Use `zero_division` parameter to control this behavior.\n",
            "  _warn_prf(average, modifier, msg_start, len(result))\n",
            "/usr/local/lib/python3.10/dist-packages/sklearn/metrics/_classification.py:1344: UndefinedMetricWarning: Precision and F-score are ill-defined and being set to 0.0 in labels with no predicted samples. Use `zero_division` parameter to control this behavior.\n",
            "  _warn_prf(average, modifier, msg_start, len(result))\n",
            "/usr/local/lib/python3.10/dist-packages/sklearn/metrics/_classification.py:1344: UndefinedMetricWarning: Recall and F-score are ill-defined and being set to 0.0 in labels with no true samples. Use `zero_division` parameter to control this behavior.\n",
            "  _warn_prf(average, modifier, msg_start, len(result))\n"
          ]
        }
      ]
    },
    {
      "cell_type": "markdown",
      "source": [
        "Interpretation of Warnings:\n",
        "UndefinedMetricWarning: These warnings occur when a class has no predicted or true samples. In your case, the class '0.00016822768213157398' has no predicted samples, hence the precision, recall, and F1-score are reported as 0.0 for this class. This is expected if there were no instances of this class in the test set."
      ],
      "metadata": {
        "id": "VgRu_gI4x5ec"
      }
    },
    {
      "cell_type": "markdown",
      "source": [
        "Step 7: Visualize Results (Optional)\n",
        "Visualize the confusion matrix and any other relevant metrics."
      ],
      "metadata": {
        "id": "xcFsySlsX6fQ"
      }
    },
    {
      "cell_type": "code",
      "source": [
        "# Confusion Matrix\n",
        "nn_cm = confusion_matrix(y_test_encoded, y_pred)\n",
        "\n",
        "plt.figure(figsize=(6, 6))\n",
        "sns.heatmap(nn_cm, annot=True, fmt='d', cmap='Blues', cbar=False)\n",
        "plt.title('Neural Network Confusion Matrix')\n",
        "plt.xlabel('Predicted Label')\n",
        "plt.ylabel('True Label')\n",
        "plt.show()\n",
        "\n",
        "# ROC Curve\n",
        "from sklearn.preprocessing import label_binarize\n",
        "from sklearn.metrics import roc_curve, auc\n",
        "\n",
        "# Binarize the labels for ROC curve\n",
        "y_test_binarized = label_binarize(y_test_encoded, classes=range(len(encoder.classes_)))\n",
        "\n",
        "# Compute ROC curve and ROC area for each class\n",
        "fpr = dict()\n",
        "tpr = dict()\n",
        "roc_auc = dict()\n",
        "for i in range(len(encoder.classes_)):\n",
        "    fpr[i], tpr[i], _ = roc_curve(y_test_binarized[:, i], y_pred_probs[:, i])\n",
        "    roc_auc[i] = auc(fpr[i], tpr[i])\n",
        "\n",
        "# Plot ROC curve for each class\n",
        "plt.figure()\n",
        "colors = ['aqua', 'darkorange', 'cornflowerblue']\n",
        "for i, color in zip(range(len(encoder.classes_)), colors):\n",
        "    plt.plot(fpr[i], tpr[i], color=color, lw=2,\n",
        "             label='ROC curve of class {0} (area = {1:0.2f})'\n",
        "             ''.format(i, roc_auc[i]))\n",
        "\n",
        "plt.plot([0, 1], [0, 1], 'k--', lw=2)\n",
        "plt.xlim([0.0, 1.0])\n",
        "plt.ylim([0.0, 1.05])\n",
        "plt.xlabel('False Positive Rate')\n",
        "plt.ylabel('True Positive Rate')\n",
        "plt.title('Receiver Operating Characteristic for Neural Network')\n",
        "plt.legend(loc=\"lower right\")\n",
        "plt.show()\n"
      ],
      "metadata": {
        "colab": {
          "base_uri": "https://localhost:8080/",
          "height": 1000
        },
        "id": "pQUkGPfmX8pP",
        "outputId": "c87e1616-d7e6-496b-cedc-a75dd0bce2e7"
      },
      "execution_count": 16,
      "outputs": [
        {
          "output_type": "display_data",
          "data": {
            "text/plain": [
              "<Figure size 600x600 with 1 Axes>"
            ],
            "image/png": "[encoded data removed]"
          },
          "metadata": {}
        },
        {
          "output_type": "stream",
          "name": "stderr",
          "text": [
            "/usr/local/lib/python3.10/dist-packages/sklearn/metrics/_ranking.py:1029: UndefinedMetricWarning: No positive samples in y_true, true positive value should be meaningless\n",
            "  warnings.warn(\n",
            "/usr/local/lib/python3.10/dist-packages/sklearn/metrics/_ranking.py:1029: UndefinedMetricWarning: No positive samples in y_true, true positive value should be meaningless\n",
            "  warnings.warn(\n"
          ]
        },
        {
          "output_type": "display_data",
          "data": {
            "text/plain": [
              "<Figure size 640x480 with 1 Axes>"
            ],
            "image/png": "[encoded data removed]"
          },
          "metadata": {}
        }
      ]
    },
    {
      "cell_type": "markdown",
      "source": [
        "Outputting Probabilities from Neural Model:\n",
        "\n",
        "After predicting using my neural network model, you obtain a set of probabilities for each class using the predict method of my Keras model."
      ],
      "metadata": {
        "id": "GoeGQVHMzq40"
      }
    },
    {
      "cell_type": "code",
      "source": [
        "# Assuming `best_model` is my trained neural network model\n",
        "y_pred_probs = best_model.predict(X_test_padded)\n"
      ],
      "metadata": {
        "colab": {
          "base_uri": "https://localhost:8080/"
        },
        "id": "yy7t08wAzyyj",
        "outputId": "d57a4f32-f80f-4dca-befd-92acc2be2a4d"
      },
      "execution_count": 17,
      "outputs": [
        {
          "output_type": "stream",
          "name": "stdout",
          "text": [
            "692/692 [==============================] - 9s 14ms/step\n"
          ]
        }
      ]
    },
    {
      "cell_type": "code",
      "source": [
        "# Print probabilities for the first sample\n",
        "print(\"Probabilities:\", y_pred_probs[0])"
      ],
      "metadata": {
        "colab": {
          "base_uri": "https://localhost:8080/"
        },
        "id": "phzuuCYd0BM9",
        "outputId": "314eefe9-9638-47bd-9c1b-b8ab8e5bbe8d"
      },
      "execution_count": 18,
      "outputs": [
        {
          "output_type": "stream",
          "name": "stdout",
          "text": [
            "Probabilities: [4.8846583e-25 9.9999911e-01 7.6300850e-09 8.9063627e-07 4.3344931e-16]\n"
          ]
        }
      ]
    },
    {
      "cell_type": "markdown",
      "source": [
        "## Consider Confidence"
      ],
      "metadata": {
        "id": "WgoYt6w80Fdw"
      }
    },
    {
      "cell_type": "markdown",
      "source": [
        "Option 1: Thresholding"
      ],
      "metadata": {
        "id": "RKSXf1Nv0Krp"
      }
    },
    {
      "cell_type": "code",
      "source": [
        "# Threshold for classification\n",
        "threshold = 0.5\n",
        "\n",
        "# Classify based on probabilities\n",
        "y_pred = []\n",
        "for probs in y_pred_probs:\n",
        "    if probs[2] > threshold:\n",
        "        y_pred.append(\"positive\")\n",
        "    elif probs[0] > threshold:\n",
        "        y_pred.append(\"negative\")\n",
        "    else:\n",
        "        y_pred.append(\"neutral\")\n",
        "\n",
        "#Print classification results\n",
        "print(\"Using Thresholding:\")\n",
        "print(classification_report(y_test, y_pred))"
      ],
      "metadata": {
        "colab": {
          "base_uri": "https://localhost:8080/"
        },
        "id": "Hmti3sIX0Mkz",
        "outputId": "073baa82-65fb-44e7-c700-2413f55af1db"
      },
      "execution_count": 22,
      "outputs": [
        {
          "output_type": "stream",
          "name": "stdout",
          "text": [
            "Using Thresholding:\n"
          ]
        },
        {
          "output_type": "stream",
          "name": "stderr",
          "text": [
            "/usr/local/lib/python3.10/dist-packages/sklearn/metrics/_classification.py:1344: UndefinedMetricWarning: Precision and F-score are ill-defined and being set to 0.0 in labels with no predicted samples. Use `zero_division` parameter to control this behavior.\n",
            "  _warn_prf(average, modifier, msg_start, len(result))\n",
            "/usr/local/lib/python3.10/dist-packages/sklearn/metrics/_classification.py:1344: UndefinedMetricWarning: Precision and F-score are ill-defined and being set to 0.0 in labels with no predicted samples. Use `zero_division` parameter to control this behavior.\n",
            "  _warn_prf(average, modifier, msg_start, len(result))\n"
          ]
        },
        {
          "output_type": "stream",
          "name": "stdout",
          "text": [
            "              precision    recall  f1-score   support\n",
            "\n",
            "    negative       0.00      0.00      0.00     19321\n",
            "     neutral       0.00      0.02      0.00      1073\n",
            "    positive       0.01      0.01      0.01      1720\n",
            "\n",
            "    accuracy                           0.00     22114\n",
            "   macro avg       0.00      0.01      0.00     22114\n",
            "weighted avg       0.00      0.00      0.00     22114\n",
            "\n"
          ]
        },
        {
          "output_type": "stream",
          "name": "stderr",
          "text": [
            "/usr/local/lib/python3.10/dist-packages/sklearn/metrics/_classification.py:1344: UndefinedMetricWarning: Precision and F-score are ill-defined and being set to 0.0 in labels with no predicted samples. Use `zero_division` parameter to control this behavior.\n",
            "  _warn_prf(average, modifier, msg_start, len(result))\n"
          ]
        }
      ]
    },
    {
      "cell_type": "markdown",
      "source": [
        "Option 2: Entropy or Maximum Probability"
      ],
      "metadata": {
        "id": "uCgfbA7z0Q05"
      }
    },
    {
      "cell_type": "code",
      "source": [
        "import numpy as np\n",
        "\n",
        "# Example threshold for entropy\n",
        "threshold_entropy = 1.0  # Adjust this threshold as per your needs\n",
        "\n",
        "# Calculate entropy for each prediction\n",
        "entropy = np.sum(-y_pred_probs * np.log(y_pred_probs + 1e-10), axis=1)  # Adding a small value to avoid log(0)\n",
        "\n",
        "# Example threshold for maximum probability\n",
        "threshold_max_prob = 0.5  # Adjust this threshold as per your needs\n",
        "\n",
        "# Calculate maximum probability for each prediction\n",
        "max_prob = np.max(y_pred_probs, axis=1)\n",
        "\n",
        "# Classify based on entropy or maximum probability\n",
        "y_pred_entropy = []\n",
        "y_pred_max_prob = []\n",
        "for i, probs in enumerate(y_pred_probs):\n",
        "    if entropy[i] > threshold_entropy:\n",
        "        # Uncertain prediction, classify as neutral or handle differently\n",
        "        y_pred_entropy.append(\"uncertain\")\n",
        "    else:\n",
        "        y_pred_entropy.append(encoder.classes_[np.argmax(probs)])\n",
        "\n",
        "    if max_prob[i] > threshold_max_prob:\n",
        "        y_pred_max_prob.append(encoder.classes_[np.argmax(probs)])\n",
        "    else:\n",
        "        y_pred_max_prob.append(\"neutral\")\n",
        "\n",
        "# Print classification reports or use as needed\n",
        "print(\"Using Entropy as Confidence:\")\n",
        "print(classification_report(y_test, y_pred_entropy))\n",
        "\n",
        "print(\"Using Maximum Probability as Confidence:\")\n",
        "print(classification_report(y_test, y_pred_max_prob))"
      ],
      "metadata": {
        "colab": {
          "base_uri": "https://localhost:8080/"
        },
        "id": "5OuLbZ8L0Ykb",
        "outputId": "6e8bb5fa-e522-47b5-e1b2-7ca8eb03da04"
      },
      "execution_count": 23,
      "outputs": [
        {
          "output_type": "stream",
          "name": "stdout",
          "text": [
            "Using Entropy as Confidence:\n"
          ]
        },
        {
          "output_type": "stream",
          "name": "stderr",
          "text": [
            "/usr/local/lib/python3.10/dist-packages/sklearn/metrics/_classification.py:1344: UndefinedMetricWarning: Recall and F-score are ill-defined and being set to 0.0 in labels with no true samples. Use `zero_division` parameter to control this behavior.\n",
            "  _warn_prf(average, modifier, msg_start, len(result))\n",
            "/usr/local/lib/python3.10/dist-packages/sklearn/metrics/_classification.py:1344: UndefinedMetricWarning: Recall and F-score are ill-defined and being set to 0.0 in labels with no true samples. Use `zero_division` parameter to control this behavior.\n",
            "  _warn_prf(average, modifier, msg_start, len(result))\n",
            "/usr/local/lib/python3.10/dist-packages/sklearn/metrics/_classification.py:1344: UndefinedMetricWarning: Recall and F-score are ill-defined and being set to 0.0 in labels with no true samples. Use `zero_division` parameter to control this behavior.\n",
            "  _warn_prf(average, modifier, msg_start, len(result))\n"
          ]
        },
        {
          "output_type": "stream",
          "name": "stdout",
          "text": [
            "              precision    recall  f1-score   support\n",
            "\n",
            "    negative       0.99      0.99      0.99     19321\n",
            "     neutral       0.89      0.98      0.94      1073\n",
            "    positive       0.94      0.94      0.94      1720\n",
            "   uncertain       0.00      0.00      0.00         0\n",
            "\n",
            "    accuracy                           0.98     22114\n",
            "   macro avg       0.71      0.73      0.72     22114\n",
            "weighted avg       0.99      0.98      0.98     22114\n",
            "\n",
            "Using Maximum Probability as Confidence:\n",
            "              precision    recall  f1-score   support\n",
            "\n",
            "    negative       0.99      0.99      0.99     19321\n",
            "     neutral       0.87      0.98      0.92      1073\n",
            "    positive       0.94      0.94      0.94      1720\n",
            "\n",
            "    accuracy                           0.98     22114\n",
            "   macro avg       0.94      0.97      0.95     22114\n",
            "weighted avg       0.98      0.98      0.98     22114\n",
            "\n"
          ]
        }
      ]
    },
    {
      "cell_type": "markdown",
      "source": [
        "The results above show a significant improvement over the previous ones(option 1: Thresholding), indicating that using entropy or maximum probability as confidence measures has helped in making more meaningful predictions. Here's how to interpret each set of results:\n",
        "\n",
        "**Using Entropy as Confidence:**\n",
        "***Precision, Recall, and F1-score:*** For all classes (negative, neutral, positive), precision, recall, and F1-score are much higher compared to the previous results using thresholding. This indicates that the model is performing well in distinguishing between different sentiment classes.\n",
        "\n",
        "***Support:*** The support column shows the number of samples in each class, similar to the previous set of results.\n",
        "\n",
        "***Uncertain Class:*** The introduction of an \"uncertain\" class shows that the model can classify instances where it's not confident (entropy is high). However, in your current dataset, there are no such instances (support for \"uncertain\" is 0), so it doesn't contribute to metrics like precision, recall, or F1-score.\n",
        "\n",
        "***Accuracy:*** The overall accuracy is 0.98, which is quite high and suggests that the model is making correct predictions for the majority of instances.\n",
        "\n",
        "***Using Maximum Probability as Confidence:***\n",
        "Precision, Recall, and F1-score: These metrics are also high across all classes, indicating good performance in classification.\n",
        "\n",
        "***Accuracy:*** The overall accuracy remains 0.98, showing consistency with the entropy-based approach.\n",
        "\n",
        "\n",
        "\n",
        "**Summary and Interpretation:**\n",
        "Model Performance: Both methods (entropy and maximum probability) have shown good performance in sentiment analysis, with high precision, recall, and F1-score for the sentiment classes.\n",
        "\n",
        "**Confidence Measures:** Using entropy allows the model to express uncertainty in predictions, which can be useful in real-world applications where understanding the model's confidence is crucial.\n",
        "\n",
        "**Recommendations:** Continue to monitor and potentially adjust the threshold for entropy or maximum probability based on specific use cases or domain requirements. Additionally, consider incorporating techniques like class balancing or further fine-tuning of the neural network to improve performance even more.\n",
        "\n",
        "Overall, these results indicate that your sentiment analysis model is performing well, especially when using confidence measures like entropy or maximum probability to enhance prediction quality and reliability."
      ],
      "metadata": {
        "id": "rHr__Jun1g_2"
      }
    },
    {
      "cell_type": "markdown",
      "source": [
        "## Conclusions"
      ],
      "metadata": {
        "id": "EqBPNiPi3ZNH"
      }
    },
    {
      "cell_type": "markdown",
      "source": [
        "Based on the sentiment analysis results:\n",
        "\n",
        "Negative Sentiment: The precision, recall, and F1-score for the \"negative\" sentiment class are high, indicating that the model is effectively identifying comments that express negative sentiment towards buying Pulsechain.\n",
        "\n",
        "Neutral Sentiment: The metrics for the \"neutral\" sentiment class are also decent, though slightly lower than for \"negative\". This suggests that the model is able to classify comments that express a neutral sentiment, albeit with some misclassifications.\n",
        "\n",
        "Positive Sentiment: The precision, recall, and F1-score for the \"positive\" sentiment class are also high, indicating that the model is proficient in identifying comments that express positive sentiment towards buying Pulsechain.\n",
        "\n",
        "**Based on these observations, you can conclude that:**\n",
        "\n",
        "**Positive Sentiment: There is a notable presence of positive sentiment in the Reddit comments analyzed, indicating that some individuals are positively inclined towards buying Pulsechain.**\n",
        "\n",
        "**Negative Sentiment: Similarly, there is a distinct presence of negative sentiment, suggesting that some individuals have reservations or negative opinions about buying Pulsechain.**\n",
        "\n",
        "**Neutral Sentiment: While the model shows some ability to classify neutral sentiment, it may not be as accurate as for positive and negative sentiments. **\n",
        "\n",
        "Therefore, the sentiment analysis suggests that sentiments expressed in the Reddit comments vary, with a significant portion being positive or negative towards buying Pulsechain, and some remaining neutral. This information can provide insights into public sentiment that could influence decisions related to Pulsechain investment or engagement strategies.\n",
        "\n",
        "\n",
        "\n",
        "\n",
        "\n",
        "\n"
      ],
      "metadata": {
        "id": "vCWbN1cD26mj"
      }
    }
  ]
}