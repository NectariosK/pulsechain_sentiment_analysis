{
  "nbformat": 4,
  "nbformat_minor": 0,
  "metadata": {
    "colab": {
      "provenance": [],
      "toc_visible": true,
      "gpuType": "T4"
    },
    "kernelspec": {
      "name": "python3",
      "display_name": "Python 3"
    },
    "language_info": {
      "name": "python"
    },
    "accelerator": "GPU"
  },
  "cells": [
    {
      "cell_type": "markdown",
      "source": [
        "# 📌 Integrated Approach to Sentiment Analysis: Leveraging Neural Networks"
      ],
      "metadata": {
        "id": "93Q2Mn1FSgxq"
      }
    },
    {
      "cell_type": "markdown",
      "source": [
        "# Step 1: Import Required Libraries"
      ],
      "metadata": {
        "id": "Nm7nAQzATwV0"
      }
    },
    {
      "cell_type": "markdown",
      "source": [
        "Before we begin building our deep learning model, we need to **import essential libraries** that will help in data preprocessing, model training, and evaluation."
      ],
      "metadata": {
        "id": "BqmglT0dlX5O"
      }
    },
    {
      "cell_type": "code",
      "execution_count": null,
      "metadata": {
        "id": "H1b8uK31Sd4I"
      },
      "outputs": [],
      "source": [
        "import tensorflow as tf\n",
        "from tensorflow.keras.models import Sequential\n",
        "from tensorflow.keras.layers import Dense, Dropout, Embedding, GlobalAveragePooling1D\n",
        "from tensorflow.keras.preprocessing.text import Tokenizer\n",
        "from tensorflow.keras.preprocessing.sequence import pad_sequences\n",
        "from tensorflow.keras.callbacks import ModelCheckpoint\n",
        "from sklearn.preprocessing import LabelEncoder\n",
        "from sklearn.metrics import classification_report, confusion_matrix, accuracy_score\n",
        "import matplotlib.pyplot as plt\n",
        "import seaborn as sns\n",
        "import numpy as np\n",
        "import pandas as pd\n",
        "import os"
      ]
    },
    {
      "cell_type": "markdown",
      "source": [
        "\n",
        "\n",
        "| Library                 | Purpose                                                                 |\n",
        "|-------------------------|-------------------------------------------------------------------------|\n",
        "| TensorFlow & Keras      | Used to build and train neural network models.                          |\n",
        "| Sequential (Keras)      | Helps in defining our deep learning model as a sequence of layers.      |\n",
        "| Embedding Layer         | Converts words into dense vector representations for better text understanding. |\n",
        "| GlobalAveragePooling1D  | Reduces the dimensionality of text embeddings efficiently.              |\n",
        "| Dropout Layer           | Helps prevent overfitting by randomly deactivating neurons during training. |\n",
        "| Tokenizer & pad_sequences | Converts text into numerical format so it can be used by neural networks. |\n",
        "| ModelCheckpoint         | Saves the best model during training to avoid losing progress.          |\n",
        "| LabelEncoder (Sklearn)  | Converts categorical sentiment labels into numerical values for model training. |\n",
        "| Classification Metrics (Sklearn) | Helps evaluate model performance using accuracy, confusion matrix, and classification report. |\n",
        "| Matplotlib & Seaborn   | Used to visualize model performance (e.g., accuracy, confusion matrices). |\n",
        "| Pandas                  | Handles dataset manipulation efficiently.                               |\n",
        "| OS                      | Used to manage files and directories in Colab.                          |\n",
        "|Numpy                      | Used to handle numerical data efficiently (e.g. tensor manipulation, weight initialization, activation functions, loss and accuracy calculations)                          |\n",
        "\n",
        "\n",
        "\n",
        "\n",
        "\n",
        "\n",
        "\n",
        "**🔹 Why This Implementation?**\n",
        "\n",
        "✔ **Neural Networks perform better** on text-based classification tasks compared to classic ML models.\n",
        "\n",
        "✔ **Tokenization and Embedding Layers** are crucial for handling textual data.\n",
        "\n",
        "✔ **Dropout Regularization** helps avoid overfitting and improves generalization.\n",
        "\n",
        "✔ **Checkpointing ensures** that we don’t lose the best-trained model.\n",
        "\n",
        "✔ **Evaluation Metrics like Accuracy & Confusion Matrix** provide a clear picture of model performance."
      ],
      "metadata": {
        "id": "qYoKIJNBiaZ0"
      }
    },
    {
      "cell_type": "markdown",
      "source": [
        "# Step 2: Mount Google Drive & Load Dataset"
      ],
      "metadata": {
        "id": "0tK_ND-GT2aj"
      }
    },
    {
      "cell_type": "markdown",
      "source": [
        "Before proceeding with model training, we need to **mount Google Drive** to access our dataset (```labeled_reddit_comments.csv```). This ensures that we can load and manipulate the data in our Colab environment."
      ],
      "metadata": {
        "id": "IhjAmUbClZv9"
      }
    },
    {
      "cell_type": "code",
      "source": [
        "from google.colab import drive\n",
        "drive.mount('/content/drive')"
      ],
      "metadata": {
        "colab": {
          "base_uri": "https://localhost:8080/"
        },
        "id": "jXnlNOWKT0f4",
        "outputId": "7c96f6a3-0290-4761-8971-9b1d6f599f4b"
      },
      "execution_count": null,
      "outputs": [
        {
          "output_type": "stream",
          "name": "stdout",
          "text": [
            "Drive already mounted at /content/drive; to attempt to forcibly remount, call drive.mount(\"/content/drive\", force_remount=True).\n"
          ]
        }
      ]
    },
    {
      "cell_type": "code",
      "source": [
        "df = pd.read_csv('drive/MyDrive/labeled_reddit_comments.csv')\n",
        "# This line reads the preprocessed dataset containing Reddit comments and sentiment labels into a Pandas DataFrame.\n",
        "# This dataset was created in our previous notebook, where we labeled comments using classic ML models."
      ],
      "metadata": {
        "id": "rwXtwpzZT-Si"
      },
      "execution_count": null,
      "outputs": []
    },
    {
      "cell_type": "code",
      "source": [
        "# Print column names to verify\n",
        "print(df.columns)\n",
        "\n",
        "# This ensures that the dataset is loaded correctly and contains the expected columns (e.g., cleaned_comment, Label).\n",
        "# Helps identify any missing or misnamed columns before proceeding with preprocessing."
      ],
      "metadata": {
        "colab": {
          "base_uri": "https://localhost:8080/"
        },
        "id": "Frgs-m_uZrsP",
        "outputId": "87303676-3638-4867-eec0-34d921325308"
      },
      "execution_count": null,
      "outputs": [
        {
          "output_type": "stream",
          "name": "stdout",
          "text": [
            "Index(['Title', 'Comment', 'cleaned_comment', 'Cluster', 'Label', 'svd-one',\n",
            "       'svd-two'],\n",
            "      dtype='object')\n"
          ]
        }
      ]
    },
    {
      "cell_type": "markdown",
      "source": [],
      "metadata": {
        "id": "3wb5G_IPlSRG"
      }
    },
    {
      "cell_type": "markdown",
      "source": [
        "# Step 3: Load and Prepare Data"
      ],
      "metadata": {
        "id": "3O2w_cjWUAP0"
      }
    },
    {
      "cell_type": "markdown",
      "source": [
        "Before training our deep learning model, we need to **process the text data** into a format that can be used for training. Unlike traditional machine learning models, neural networks require numerical inputs.\n",
        "\n",
        "In this step, we will:\n",
        "\n",
        "1. **Handle missing values** to ensure data consistency.\n",
        "2. **Tokenize text data** to convert words into numerical representations.\n",
        "3. **Pad sequences** to ensure uniform input size for the model.\n",
        "4. **Encode labels** to transform categorical sentiment labels into numerical values.\n",
        "5. **Split the dataset** into training and testing sets."
      ],
      "metadata": {
        "id": "YTxpeTW9qnsL"
      }
    },
    {
      "cell_type": "code",
      "source": [
        "# Assuming 'Comment' column contains your text data and 'Label' contains labels\n",
        "X = df['Comment'].astype(str)  # Ensure all elements are strings\n",
        "y = df['Label']\n",
        "\n",
        "# Handle missing values if any\n",
        "X.fillna('', inplace=True)  # Replace NaNs with empty string\n",
        "\n",
        "# Split the data into training and testing sets\n",
        "from sklearn.model_selection import train_test_split\n",
        "X_train, X_test, y_train, y_test = train_test_split(X, y, test_size=0.2, random_state=42)\n",
        "\n",
        "# Tokenize the comments\n",
        "tokenizer = Tokenizer()\n",
        "tokenizer.fit_on_texts(X_train)\n",
        "X_train_tokenized = tokenizer.texts_to_sequences(X_train)\n",
        "X_test_tokenized = tokenizer.texts_to_sequences(X_test)\n",
        "\n",
        "max_len = max([len(x) for x in X_train_tokenized])\n",
        "X_train_padded = pad_sequences(X_train_tokenized, maxlen=max_len, padding='post')\n",
        "X_test_padded = pad_sequences(X_test_tokenized, maxlen=max_len, padding='post')\n",
        "\n",
        "# Encode labels if needed (for example, if 'Label' is categorical)\n",
        "encoder = LabelEncoder()\n",
        "y_train_encoded = encoder.fit_transform(y_train)\n",
        "y_test_encoded = encoder.transform(y_test)\n",
        "\n",
        "# Get the number of unique labels (num_clusters)\n",
        "num_clusters = len(encoder.classes_)"
      ],
      "metadata": {
        "id": "4TD3D35xUEtS"
      },
      "execution_count": null,
      "outputs": []
    },
    {
      "cell_type": "markdown",
      "source": [
        "**🔹 Load and Handle Missing Values**\n",
        "\n",
        "```\n",
        "# Assuming 'Comment' column contains your text data and 'Label' contains labels\n",
        "X = df['Comment'].astype(str)  # Ensure all elements are strings\n",
        "y = df['Label']\n",
        "\n",
        "# Handle missing values if any\n",
        "X.fillna('', inplace=True)  # Replace NaNs with empty string\n",
        "```\n",
        "✅ Why Handle Missing Values?\n",
        "\n",
        "Missing values in text data can cause errors during tokenization and training. **Replacing NaNs with an empty string ensures the model does not encounter unexpected issues.**\n",
        "\n",
        "=================================================================================================================\n",
        "\n",
        "🔹 **Split Data into Training and Testing Sets**\n",
        "```\n",
        "from sklearn.model_selection import train_test_split\n",
        "X_train, X_test, y_train, y_test = train_test_split(X, y, test_size=0.2, random_state=42)\n",
        "```\n",
        "✅ Why Split the Data?\n",
        "\n",
        "We need to evaluate our model on **unseen data** to measure its performance.\n",
        "\n",
        "  * **80% Training Data**: Used to train the model.\n",
        "  * **20% Test Data**: Used to evaluate model performance.\n",
        "  * **random_state=42** ensures results are **reproducible** across different runs.\n",
        "\n",
        "=================================================================================================================\n",
        "\n",
        "🔹 **Tokenize Text Data**\n",
        "```\n",
        "# Tokenize the comments\n",
        "tokenizer = Tokenizer()\n",
        "tokenizer.fit_on_texts(X_train)\n",
        "X_train_tokenized = tokenizer.texts_to_sequences(X_train)\n",
        "X_test_tokenized = tokenizer.texts_to_sequences(X_test)\n",
        "```\n",
        "✅ Why Use Tokenization?\n",
        "\n",
        "Neural networks cannot process raw text. **Tokenization converts words into numerical indices**, allowing the model to recognize patterns in text.\n",
        "\n",
        "  * ```fit_on_texts(X_train)``` builds a vocabulary **only on training data**, preventing data leakage.\n",
        "  * ```texts_to_sequences()``` converts each comment into a sequence of word indices.\n",
        "\n",
        "=================================================================================================================\n",
        "\n",
        "🔹 **Pad Sequences**\n",
        "```\n",
        "max_len = max([len(x) for x in X_train_tokenized])  # Find longest sequence length\n",
        "X_train_padded = pad_sequences(X_train_tokenized, maxlen=max_len, padding='post')\n",
        "X_test_padded = pad_sequences(X_test_tokenized, maxlen=max_len, padding='post')\n",
        "```\n",
        "✅ Why Use Padding?\n",
        "\n",
        "Neural networks require **fixed-size inputs**, but sentences vary in length.\n",
        "\n",
        "  * **Padding ensures uniform input size** by adding zeros to shorter sequences.\n",
        "  * ```maxlen=max_len``` sets all sequences to match the longest one.\n",
        "  * ```padding='post'``` appends zeros at the end of shorter sequences, rather than the beginning.\n",
        "\n",
        "=================================================================================================================\n",
        "\n",
        "🔹** Encode Labels**\n",
        "```\n",
        "# Encode labels if needed (for example, if 'Label' is categorical)\n",
        "encoder = LabelEncoder()\n",
        "y_train_encoded = encoder.fit_transform(y_train)\n",
        "y_test_encoded = encoder.transform(y_test)\n",
        "```\n",
        "✅ Why Use Label Encoding?\n",
        "\n",
        "Most machine learning models, including neural networks, **cannot process categorical data** like ```'positive'```, ```'negative'```, or ```'neutral'```.\n",
        "\n",
        "  * **Label encoding converts categories into numbers** (e.g., ```positive → 0```, ```negative → 1```, ```neutral → 2```).\n",
        "  * ```fit_transform(y_train)``` assigns numerical values based on training data.\n",
        "  * ```transform(y_test)``` applies the same encoding to test data.\n",
        "\n",
        "📝 *If we had many labels or wanted probabilities instead of class numbers, one-hot encoding might be a better option.*\n",
        "\n",
        "=================================================================================================================\n",
        "\n",
        "**🔹 Get the Number of Unique Labels**\n",
        "```\n",
        "# Get the number of unique labels (num_clusters)\n",
        "num_clusters = len(encoder.classes_)\n",
        "```\n",
        "✅ Why Find the Number of Labels?\n",
        "\n",
        "  * This determines the **number of output neurons** in our neural network.\n",
        "  * If we have 3 sentiment categories (```positive```, ```negative```, ```neutral```), then our output layer needs **3 neurons**.\n",
        "\n",
        "=================================================================================================================\n",
        "\n",
        "**📌 Summary of This Step**\n",
        "\n",
        "✅ **Processed text data**\n",
        "\n",
        "✅ **Tokenized and padded sequences** for neural network compatibility\n",
        "\n",
        "✅ **Encoded sentiment labels** into numerical form\n",
        "\n",
        "✅ **Split dataset** into training and testing sets"
      ],
      "metadata": {
        "id": "NxAOn0jh_ioM"
      }
    },
    {
      "cell_type": "markdown",
      "source": [
        "# Step 4: Define and Compile the Model\n",
        "Now that our data is preprocessed, we define the **neural network architecture** for text classification."
      ],
      "metadata": {
        "id": "lAhjW6xYUH4A"
      }
    },
    {
      "cell_type": "code",
      "source": [
        "def create_model():\n",
        "    model = Sequential([\n",
        "        Embedding(input_dim=len(tokenizer.word_index) + 1, output_dim=128, input_length=max_len),\n",
        "        GlobalAveragePooling1D(),\n",
        "        Dense(128, activation='relu'),\n",
        "        Dropout(0.3),\n",
        "        Dense(64, activation='relu'),\n",
        "        Dropout(0.3),\n",
        "        Dense(num_clusters, activation='softmax')\n",
        "    ])\n",
        "\n",
        "    model.compile(optimizer='adam', loss='sparse_categorical_crossentropy', metrics=['accuracy'])\n",
        "    return model\n",
        "\n",
        "model = create_model()\n"
      ],
      "metadata": {
        "id": "ffdGnWS6UNRq",
        "colab": {
          "base_uri": "https://localhost:8080/"
        },
        "outputId": "d66cc520-0bac-4aa4-bb88-e5a35d7419b4"
      },
      "execution_count": null,
      "outputs": [
        {
          "output_type": "stream",
          "name": "stderr",
          "text": [
            "/usr/local/lib/python3.11/dist-packages/keras/src/layers/core/embedding.py:90: UserWarning: Argument `input_length` is deprecated. Just remove it.\n",
            "  warnings.warn(\n"
          ]
        }
      ]
    },
    {
      "cell_type": "markdown",
      "source": [
        "**🔍 Breaking Down the Model Architecture**\n",
        "\n",
        "| Layer                           | Purpose |\n",
        "|---------------------------------|-----------------------------------------------------------------------------------------------------------------------------------|\n",
        "| Embedding Layer                 | Converts word indices into dense vector representations (word embeddings). |\n",
        "| GlobalAveragePooling1D Layer    | Reduces dimensionality by averaging over all word embeddings, making computation efficient. |\n",
        "| Dense (128, ReLU)               | Fully connected layer with 128 neurons and ReLU activation. Helps the model learn patterns. |\n",
        "| Dropout (0.5)                   | Drops 50% of neurons during training to prevent overfitting. |\n",
        "| Dense (64, ReLU)                | Another fully connected layer for deeper feature extraction. |\n",
        "| Dropout (0.5)                   | Additional regularization to improve generalization. |\n",
        "| Dense (num_clusters, Softmax)   | Output layer with num_clusters neurons, one for each sentiment class (e.g., positive, negative, neutral). Uses softmax for multi-class classification. |\n",
        "\n",
        "\n",
        "\n",
        "✅ Why Use These Layers?\n",
        "\n",
        "  * **Embedding Layer**: Transforms words into dense vectors, capturing relationships between words.\n",
        "  * **GlobalAveragePooling1D**: Instead of using LSTMs or CNNs (which require more computation), this reduces input size efficiently.\n",
        "  * **Dense Layers with ReLU**: Help capture complex patterns in the data.\n",
        "  * **Dropout Layers**: Prevent overfitting by randomly deactivating neurons during training.\n",
        "  * **Softmax Activation in Output Layer**: Converts outputs into probability scores for each sentiment class.\n",
        "\n",
        "**🔹 Compiling the Model**\n",
        "```\n",
        "model.compile(optimizer='adam', loss='sparse_categorical_crossentropy', metrics=['accuracy'])\n",
        "```\n",
        "✅ **Adam Optimizer**: Efficient adaptive learning rate optimizer.\n",
        "\n",
        "✅ **Sparse Categorical Crossentropy**: Suitable for multi-class classification when labels are integer-encoded.\n",
        "\n",
        "✅ **Accuracy Metric**: Used to track performance during training.\n",
        "\n",
        "\n",
        "=================================================================================================================\n",
        "\n",
        "**📌 Summary of This Step**\n",
        "\n",
        "✅ **Defined a sequential neural network **for sentiment classification.\n",
        "\n",
        "✅ **Used word embeddings for better text representation.**\n",
        "\n",
        "✅ **Added dropout layers to improve generalization.**\n",
        "\n",
        "✅ **Compiled the model with appropriate loss and optimizer.**"
      ],
      "metadata": {
        "id": "QbJnU5r-O58o"
      }
    },
    {
      "cell_type": "markdown",
      "source": [
        "# Step 5: Train the Model with Validation and Model Checkpointing\n",
        "Now that we've defined our neural network, we **train it** while incorporating **validation** and **model checkpointing** to save the best model."
      ],
      "metadata": {
        "id": "WUz0vjvZUOsA"
      }
    },
    {
      "cell_type": "code",
      "source": [
        "# Define checkpoint callback to save the best model\n",
        "checkpoint_path = '/content/drive/MyDrive/models/best_model.keras'\n",
        "checkpoint = ModelCheckpoint(checkpoint_path, monitor='val_loss', verbose=1, save_best_only=True, mode='min')\n",
        "\n",
        "# Train the model with validation split and using callbacks\n",
        "history = model.fit(X_train_padded, y_train_encoded, epochs=10, batch_size=32, validation_split=0.2, callbacks=[checkpoint])"
      ],
      "metadata": {
        "colab": {
          "base_uri": "https://localhost:8080/"
        },
        "id": "QGXynOvYURQF",
        "outputId": "c6aaacd6-80a3-4aa6-f114-41832860671d"
      },
      "execution_count": null,
      "outputs": [
        {
          "output_type": "stream",
          "name": "stdout",
          "text": [
            "Epoch 1/10\n",
            "\u001b[1m2212/2212\u001b[0m \u001b[32m━━━━━━━━━━━━━━━━━━━━\u001b[0m\u001b[37m\u001b[0m \u001b[1m0s\u001b[0m 6ms/step - accuracy: 0.8741 - loss: 0.4989\n",
            "Epoch 1: val_loss improved from inf to 0.45322, saving model to /content/drive/MyDrive/models/best_model.keras\n",
            "\u001b[1m2212/2212\u001b[0m \u001b[32m━━━━━━━━━━━━━━━━━━━━\u001b[0m\u001b[37m\u001b[0m \u001b[1m19s\u001b[0m 7ms/step - accuracy: 0.8741 - loss: 0.4989 - val_accuracy: 0.8817 - val_loss: 0.4532\n",
            "Epoch 2/10\n",
            "\u001b[1m2207/2212\u001b[0m \u001b[32m━━━━━━━━━━━━━━━━━━━\u001b[0m\u001b[37m━\u001b[0m \u001b[1m0s\u001b[0m 5ms/step - accuracy: 0.8792 - loss: 0.4579\n",
            "Epoch 2: val_loss improved from 0.45322 to 0.44424, saving model to /content/drive/MyDrive/models/best_model.keras\n",
            "\u001b[1m2212/2212\u001b[0m \u001b[32m━━━━━━━━━━━━━━━━━━━━\u001b[0m\u001b[37m\u001b[0m \u001b[1m18s\u001b[0m 6ms/step - accuracy: 0.8792 - loss: 0.4579 - val_accuracy: 0.8817 - val_loss: 0.4442\n",
            "Epoch 3/10\n",
            "\u001b[1m2202/2212\u001b[0m \u001b[32m━━━━━━━━━━━━━━━━━━━\u001b[0m\u001b[37m━\u001b[0m \u001b[1m0s\u001b[0m 5ms/step - accuracy: 0.8768 - loss: 0.4596\n",
            "Epoch 3: val_loss improved from 0.44424 to 0.44328, saving model to /content/drive/MyDrive/models/best_model.keras\n",
            "\u001b[1m2212/2212\u001b[0m \u001b[32m━━━━━━━━━━━━━━━━━━━━\u001b[0m\u001b[37m\u001b[0m \u001b[1m20s\u001b[0m 6ms/step - accuracy: 0.8768 - loss: 0.4596 - val_accuracy: 0.8817 - val_loss: 0.4433\n",
            "Epoch 4/10\n",
            "\u001b[1m2203/2212\u001b[0m \u001b[32m━━━━━━━━━━━━━━━━━━━\u001b[0m\u001b[37m━\u001b[0m \u001b[1m0s\u001b[0m 5ms/step - accuracy: 0.8771 - loss: 0.4564\n",
            "Epoch 4: val_loss did not improve from 0.44328\n",
            "\u001b[1m2212/2212\u001b[0m \u001b[32m━━━━━━━━━━━━━━━━━━━━\u001b[0m\u001b[37m\u001b[0m \u001b[1m13s\u001b[0m 6ms/step - accuracy: 0.8771 - loss: 0.4564 - val_accuracy: 0.8817 - val_loss: 0.4456\n",
            "Epoch 5/10\n",
            "\u001b[1m2212/2212\u001b[0m \u001b[32m━━━━━━━━━━━━━━━━━━━━\u001b[0m\u001b[37m\u001b[0m \u001b[1m0s\u001b[0m 5ms/step - accuracy: 0.8755 - loss: 0.4595\n",
            "Epoch 5: val_loss did not improve from 0.44328\n",
            "\u001b[1m2212/2212\u001b[0m \u001b[32m━━━━━━━━━━━━━━━━━━━━\u001b[0m\u001b[37m\u001b[0m \u001b[1m21s\u001b[0m 6ms/step - accuracy: 0.8755 - loss: 0.4595 - val_accuracy: 0.8817 - val_loss: 0.4437\n",
            "Epoch 6/10\n",
            "\u001b[1m2202/2212\u001b[0m \u001b[32m━━━━━━━━━━━━━━━━━━━\u001b[0m\u001b[37m━\u001b[0m \u001b[1m0s\u001b[0m 5ms/step - accuracy: 0.8763 - loss: 0.4574\n",
            "Epoch 6: val_loss did not improve from 0.44328\n",
            "\u001b[1m2212/2212\u001b[0m \u001b[32m━━━━━━━━━━━━━━━━━━━━\u001b[0m\u001b[37m\u001b[0m \u001b[1m19s\u001b[0m 6ms/step - accuracy: 0.8763 - loss: 0.4574 - val_accuracy: 0.8817 - val_loss: 0.4435\n",
            "Epoch 7/10\n",
            "\u001b[1m2211/2212\u001b[0m \u001b[32m━━━━━━━━━━━━━━━━━━━\u001b[0m\u001b[37m━\u001b[0m \u001b[1m0s\u001b[0m 5ms/step - accuracy: 0.8770 - loss: 0.4558\n",
            "Epoch 7: val_loss improved from 0.44328 to 0.44311, saving model to /content/drive/MyDrive/models/best_model.keras\n",
            "\u001b[1m2212/2212\u001b[0m \u001b[32m━━━━━━━━━━━━━━━━━━━━\u001b[0m\u001b[37m\u001b[0m \u001b[1m21s\u001b[0m 6ms/step - accuracy: 0.8770 - loss: 0.4558 - val_accuracy: 0.8817 - val_loss: 0.4431\n",
            "Epoch 8/10\n",
            "\u001b[1m2206/2212\u001b[0m \u001b[32m━━━━━━━━━━━━━━━━━━━\u001b[0m\u001b[37m━\u001b[0m \u001b[1m0s\u001b[0m 5ms/step - accuracy: 0.8767 - loss: 0.4560\n",
            "Epoch 8: val_loss did not improve from 0.44311\n",
            "\u001b[1m2212/2212\u001b[0m \u001b[32m━━━━━━━━━━━━━━━━━━━━\u001b[0m\u001b[37m\u001b[0m \u001b[1m13s\u001b[0m 6ms/step - accuracy: 0.8767 - loss: 0.4560 - val_accuracy: 0.8817 - val_loss: 0.4435\n",
            "Epoch 9/10\n",
            "\u001b[1m2202/2212\u001b[0m \u001b[32m━━━━━━━━━━━━━━━━━━━\u001b[0m\u001b[37m━\u001b[0m \u001b[1m0s\u001b[0m 5ms/step - accuracy: 0.8766 - loss: 0.4557\n",
            "Epoch 9: val_loss did not improve from 0.44311\n",
            "\u001b[1m2212/2212\u001b[0m \u001b[32m━━━━━━━━━━━━━━━━━━━━\u001b[0m\u001b[37m\u001b[0m \u001b[1m12s\u001b[0m 6ms/step - accuracy: 0.8766 - loss: 0.4557 - val_accuracy: 0.8817 - val_loss: 0.4434\n",
            "Epoch 10/10\n",
            "\u001b[1m2210/2212\u001b[0m \u001b[32m━━━━━━━━━━━━━━━━━━━\u001b[0m\u001b[37m━\u001b[0m \u001b[1m0s\u001b[0m 5ms/step - accuracy: 0.8780 - loss: 0.4520\n",
            "Epoch 10: val_loss did not improve from 0.44311\n",
            "\u001b[1m2212/2212\u001b[0m \u001b[32m━━━━━━━━━━━━━━━━━━━━\u001b[0m\u001b[37m\u001b[0m \u001b[1m13s\u001b[0m 6ms/step - accuracy: 0.8780 - loss: 0.4520 - val_accuracy: 0.8817 - val_loss: 0.4432\n"
          ]
        }
      ]
    },
    {
      "cell_type": "markdown",
      "source": [
        "**🔹 Implementing Model Checkpointing**\n",
        "\n",
        "To ensure we save the best-performing model (based on validation loss), we use **ModelCheckpoint** from Keras.\n",
        "\n",
        "```\n",
        "# Define checkpoint callback to save the best model\n",
        "checkpoint_path = '/content/drive/MyDrive/models/best_model.h5'\n",
        "checkpoint = ModelCheckpoint(checkpoint_path, monitor='val_loss', verbose=1, save_best_only=True, mode='min')\n",
        "```\n",
        "\n",
        "✅ Why Save the Best Model?\n",
        "\n",
        "  * Prevents **overwriting with a worse model** in later epochs.\n",
        "  * Helps in **early stopping**—if training starts degrading, we can restore the best checkpoint.\n",
        "  * Ensures that **even if training is interrupted**, the best version of the model is preserved.\n",
        "\n",
        "🔹**Training the Model**\n",
        "\n",
        "We now train the model, specifying:\n",
        "\n",
        "  * ```X_train_padded``` as input and ```y_train_encoded``` as labels.\n",
        "  * **10 epochs** (can be tuned).\n",
        "  * **Batch size of 32** (balances memory efficiency and stability).\n",
        "  * **20% validation split** (to monitor generalization).\n",
        "  * **Callbacks** to save the best model.\n",
        "```\n",
        "# Train the model with validation split and using callbacks\n",
        "history = model.fit(X_train_padded, y_train_encoded, epochs=10, batch_size=32, validation_split=0.2, callbacks=[checkpoint])\n",
        "```\n",
        "\n",
        "✅ Why Use a Validation Split?\n",
        "\n",
        "  * Helps monitor **how well the model generalizes** beyond training data.\n",
        "  * **Prevents overfitting**—if validation loss increases while training loss decreases, we may need to adjust the model.\n",
        "\n",
        "📊 **What Happens During Training?**\n",
        "  * The model updates weights based on **training data.**\n",
        "  * After each epoch, it evaluates performance on **validation data.**\n",
        "  * If **validation loss improves**, the model is saved.\n",
        "  * Training continues until all **10 epochs** are completed.\n",
        "\n",
        "==================================================================================================================\n",
        "\n",
        "**📌 Summary of This Step**\n",
        "\n",
        "✅ **Model is trained on text data using padded sequences.**\n",
        "\n",
        "✅ **Validation split helps track generalization.**\n",
        "\n",
        "✅ **Best model is saved based on validation loss.**"
      ],
      "metadata": {
        "id": "iLUZ1rNxk4no"
      }
    },
    {
      "cell_type": "markdown",
      "source": [
        "# Step 6: Evaluate the Best Model\n",
        "Now that we've trained the neural network, we need to **evaluate** how well it performs on the test set. This step ensures that the model **generalizes** well to unseen data."
      ],
      "metadata": {
        "id": "_0K0F7WTX4UZ"
      }
    },
    {
      "cell_type": "code",
      "source": [
        "# Load the best model saved during training\n",
        "best_model = tf.keras.models.load_model(checkpoint_path)\n",
        "\n",
        "# Evaluate the best model on the test set\n",
        "y_pred_probs = best_model.predict(X_test_padded)\n",
        "y_pred = y_pred_probs.argmax(axis=1)\n",
        "\n",
        "# Ensure y_pred is cast to integers\n",
        "y_pred = y_pred.astype(int)\n",
        "\n",
        "# Calculate accuracy\n",
        "nn_accuracy = accuracy_score(y_test_encoded, y_pred)\n",
        "print(\"Neural Network Accuracy:\", nn_accuracy)\n",
        "\n",
        "# Clean up encoder.classes_ and ensure it contains valid string labels\n",
        "cleaned_classes = [label for label in encoder.classes_ if isinstance(label, str)]\n",
        "\n",
        "# Print classification report using cleaned_classes\n",
        "print(\"Encoded Classes:\", cleaned_classes)\n",
        "print(\"Predicted Values:\", y_pred)\n",
        "print(classification_report(y_test_encoded, y_pred, labels=encoder.transform(cleaned_classes), target_names=cleaned_classes))\n"
      ],
      "metadata": {
        "colab": {
          "base_uri": "https://localhost:8080/"
        },
        "id": "ujBhiaxRX5L4",
        "outputId": "0f5a469b-4fdb-4c03-a341-7d1225f16963"
      },
      "execution_count": null,
      "outputs": [
        {
          "output_type": "stream",
          "name": "stdout",
          "text": [
            "\u001b[1m692/692\u001b[0m \u001b[32m━━━━━━━━━━━━━━━━━━━━\u001b[0m\u001b[37m\u001b[0m \u001b[1m2s\u001b[0m 2ms/step\n",
            "Neural Network Accuracy: 0.8736999186035995\n",
            "Encoded Classes: ['0.00016822768213157398', 'negative', 'neutral', 'positive']\n",
            "Predicted Values: [1 1 1 ... 1 1 1]\n",
            "                        precision    recall  f1-score   support\n",
            "\n",
            "0.00016822768213157398       0.00      0.00      0.00         0\n",
            "              negative       0.87      1.00      0.93     19321\n",
            "               neutral       0.00      0.00      0.00      1073\n",
            "              positive       0.00      0.00      0.00      1720\n",
            "\n",
            "              accuracy                           0.87     22114\n",
            "             macro avg       0.22      0.25      0.23     22114\n",
            "          weighted avg       0.76      0.87      0.81     22114\n",
            "\n"
          ]
        },
        {
          "output_type": "stream",
          "name": "stderr",
          "text": [
            "/usr/local/lib/python3.11/dist-packages/sklearn/metrics/_classification.py:1565: UndefinedMetricWarning: Precision is ill-defined and being set to 0.0 in labels with no predicted samples. Use `zero_division` parameter to control this behavior.\n",
            "  _warn_prf(average, modifier, f\"{metric.capitalize()} is\", len(result))\n",
            "/usr/local/lib/python3.11/dist-packages/sklearn/metrics/_classification.py:1565: UndefinedMetricWarning: Recall is ill-defined and being set to 0.0 in labels with no true samples. Use `zero_division` parameter to control this behavior.\n",
            "  _warn_prf(average, modifier, f\"{metric.capitalize()} is\", len(result))\n",
            "/usr/local/lib/python3.11/dist-packages/sklearn/metrics/_classification.py:1565: UndefinedMetricWarning: F-score is ill-defined and being set to 0.0 in labels with no true nor predicted samples. Use `zero_division` parameter to control this behavior.\n",
            "  _warn_prf(average, modifier, f\"{metric.capitalize()} is\", len(result))\n",
            "/usr/local/lib/python3.11/dist-packages/sklearn/metrics/_classification.py:1565: UndefinedMetricWarning: Precision is ill-defined and being set to 0.0 in labels with no predicted samples. Use `zero_division` parameter to control this behavior.\n",
            "  _warn_prf(average, modifier, f\"{metric.capitalize()} is\", len(result))\n",
            "/usr/local/lib/python3.11/dist-packages/sklearn/metrics/_classification.py:1565: UndefinedMetricWarning: Recall is ill-defined and being set to 0.0 in labels with no true samples. Use `zero_division` parameter to control this behavior.\n",
            "  _warn_prf(average, modifier, f\"{metric.capitalize()} is\", len(result))\n",
            "/usr/local/lib/python3.11/dist-packages/sklearn/metrics/_classification.py:1565: UndefinedMetricWarning: F-score is ill-defined and being set to 0.0 in labels with no true nor predicted samples. Use `zero_division` parameter to control this behavior.\n",
            "  _warn_prf(average, modifier, f\"{metric.capitalize()} is\", len(result))\n",
            "/usr/local/lib/python3.11/dist-packages/sklearn/metrics/_classification.py:1565: UndefinedMetricWarning: Precision is ill-defined and being set to 0.0 in labels with no predicted samples. Use `zero_division` parameter to control this behavior.\n",
            "  _warn_prf(average, modifier, f\"{metric.capitalize()} is\", len(result))\n",
            "/usr/local/lib/python3.11/dist-packages/sklearn/metrics/_classification.py:1565: UndefinedMetricWarning: Recall is ill-defined and being set to 0.0 in labels with no true samples. Use `zero_division` parameter to control this behavior.\n",
            "  _warn_prf(average, modifier, f\"{metric.capitalize()} is\", len(result))\n",
            "/usr/local/lib/python3.11/dist-packages/sklearn/metrics/_classification.py:1565: UndefinedMetricWarning: F-score is ill-defined and being set to 0.0 in labels with no true nor predicted samples. Use `zero_division` parameter to control this behavior.\n",
            "  _warn_prf(average, modifier, f\"{metric.capitalize()} is\", len(result))\n"
          ]
        }
      ]
    },
    {
      "cell_type": "markdown",
      "source": [
        "**🔹 Loading the Best Model**\n",
        "\n",
        "Since we used **ModelCheckpoint** earlier, we reload the best model (saved based on validation loss).\n",
        "\n",
        "```\n",
        "# Load the best model saved during training\n",
        "best_model = tf.keras.models.load_model(checkpoint_path)\n",
        "```\n",
        "✅ Why Load the Best Model?\n",
        "\n",
        "  * During training, some epochs perform better than others.\n",
        "  * The saved model corresponds to the best **validation loss** (not necessarily the last epoch).\n",
        "  * Ensures we evaluate **the most optimized version** of our model.\n",
        "\n",
        "**🔹 Making Predictions**\n",
        "\n",
        "We pass our **test data** (```X_test_padded```) to the model and obtain predicted probabilities.\n",
        "```\n",
        "# Evaluate the best model on the test set\n",
        "y_pred_probs = best_model.predict(X_test_padded)\n",
        "y_pred = y_pred_probs.argmax(axis=1)  # Convert probabilities to class labels\n",
        "```\n",
        "✅ Why Convert Probabilities to Labels?\n",
        "\n",
        "  * The model outputs a probability distribution for each class.\n",
        "  * ```argmax(axis=1)``` selects the class **with the highest probability** as the final prediction.\n",
        "\n",
        "**🔹 Ensuring Predictions Are Integer Values**\n",
        "\n",
        "Since label encoders work with integers, we explicitly **cast predictions to integers**:\n",
        "```\n",
        "# Ensure y_pred is cast to integers\n",
        "y_pred = y_pred.astype(int)\n",
        "```\n",
        "This step prevents compatibility issues when comparing predictions with ground-truth labels.\n",
        "\n",
        "**🔹 Calculating Model Accuracy**\n",
        "\n",
        "Accuracy is a basic but important metric for classification performance.\n",
        "\n",
        "```\n",
        "# Calculate accuracy\n",
        "nn_accuracy = accuracy_score(y_test_encoded, y_pred)\n",
        "print(\"Neural Network Accuracy:\", nn_accuracy)\n",
        "```\n",
        "✅ Why Measure Accuracy?\n",
        "\n",
        "  * It tells us how often the model makes **correct predictions.**\n",
        "  * A higher accuracy suggests better performance, but we will also analyze other metrics for deeper insight.\n",
        "\n",
        "**🔹 Handling Class Labels**\n",
        "\n",
        "Since the **LabelEncoder** might have transformed some labels into numerical values, we **clean** them to ensure they're valid string labels:\n",
        "```\n",
        "# Clean up encoder.classes_ and ensure it contains valid string labels\n",
        "cleaned_classes = [label for label in encoder.classes_ if isinstance(label, str)]\n",
        "```\n",
        "✅ Why Do This?\n",
        "\n",
        "  * Sometimes, labels might contain non-string values (like floating points).\n",
        "  * This ensures we map back to the correct class names before printing the classification report.\n",
        "\n",
        "**🔹 Printing Classification Report**\n",
        "\n",
        "A classification report provides **precision, recall, and F1-score** for each class.\n",
        "```\n",
        "# Print classification report using cleaned_classes\n",
        "print(\"Encoded Classes:\", cleaned_classes)\n",
        "print(\"Predicted Values:\", y_pred)\n",
        "print(classification_report(y_test_encoded, y_pred, labels=encoder.transform(cleaned_classes), target_names=cleaned_classes))\n",
        "```\n",
        "✅ Why Use a Classification Report?\n",
        "\n",
        "  * **Precision**: How many predicted positive labels were actually correct?\n",
        "  * **Recall**: How many true positives were successfully detected?\n",
        "  * **F1-Score**: A balance between precision and recall.\n",
        "\n",
        "This helps us **understand class-wise performance** rather than relying on a single metric like accuracy."
      ],
      "metadata": {
        "id": "ZrlCwDMypng6"
      }
    },
    {
      "cell_type": "markdown",
      "source": [
        "⚠️ **Interpretation of Warnings**\n",
        "\n",
        "You may see a **UndefinedMetricWarning**, which means that some classes had **no predicted or true samples**.\n",
        "\n",
        "**🔍 Example Warning:**\n",
        "```\n",
        "vbnet\n",
        "\n",
        "UndefinedMetricWarning: F-score is ill-defined and being set to 0.0 in labels with no predicted samples.\n",
        "```\n",
        "\n",
        "**🛠 Why Does This Happen?**\n",
        "\n",
        "  * Some classes might have very few (or zero) examples in the test set.\n",
        "  * If a class **was never predicted**, precision, recall, and F1-score for that class are **0.0**.\n",
        "  * This is expected if the test set lacks instances of a particular class.\n",
        "\n",
        "\n",
        "**📌 Key Takeaway**: If a class has **no representation in predictions**, we should check:\n",
        "\n",
        "1️⃣ **Class distribution in the dataset** (maybe it's very rare).\n",
        "\n",
        "2️⃣ **Model bias** (is it struggling with certain labels?).\n",
        "\n",
        "3️⃣ **Whether class balancing techniques are needed.**\n",
        "\n",
        "\n",
        "====================================================================================================================================\n",
        "\n",
        "\n",
        "**📌 Summary of This Step**\n",
        "\n",
        "✅ **Best model is loaded and evaluated on the test set.**\n",
        "\n",
        "✅ **Predicted class labels are extracted from probability distributions.**\n",
        "\n",
        "✅ **Accuracy and classification report provide detailed model performance.**\n",
        "\n",
        "✅ **Warnings indicate potential data imbalance issues.**"
      ],
      "metadata": {
        "id": "VgRu_gI4x5ec"
      }
    },
    {
      "cell_type": "markdown",
      "source": [
        "# Step 7: Visualize Results (Optional)\n",
        "\n",
        "Now that we've evaluated the model numerically, let's **visualize** its performance using a **confusion matrix and ROC curves**. These visualizations help us **better understand the model’s strengths and weaknesses**."
      ],
      "metadata": {
        "id": "xcFsySlsX6fQ"
      }
    },
    {
      "cell_type": "code",
      "source": [
        "# Confusion Matrix\n",
        "nn_cm = confusion_matrix(y_test_encoded, y_pred)\n",
        "\n",
        "plt.figure(figsize=(6, 6))\n",
        "sns.heatmap(nn_cm, annot=True, fmt='d', cmap='Blues', cbar=False)\n",
        "plt.title('Neural Network Confusion Matrix')\n",
        "plt.xlabel('Predicted Label')\n",
        "plt.ylabel('True Label')\n",
        "plt.show()\n",
        "\n",
        "# ROC Curve\n",
        "from sklearn.preprocessing import label_binarize\n",
        "from sklearn.metrics import roc_curve, auc\n",
        "\n",
        "# Binarize the labels for ROC curve\n",
        "y_test_binarized = label_binarize(y_test_encoded, classes=range(len(encoder.classes_)))\n",
        "\n",
        "# Compute ROC curve and ROC area for each class\n",
        "fpr = dict()\n",
        "tpr = dict()\n",
        "roc_auc = dict()\n",
        "for i in range(len(encoder.classes_)):\n",
        "    fpr[i], tpr[i], _ = roc_curve(y_test_binarized[:, i], y_pred_probs[:, i])\n",
        "    roc_auc[i] = auc(fpr[i], tpr[i])\n",
        "\n",
        "# Plot ROC curve for each class\n",
        "plt.figure()\n",
        "colors = ['aqua', 'darkorange', 'cornflowerblue']\n",
        "for i, color in zip(range(len(encoder.classes_)), colors):\n",
        "    plt.plot(fpr[i], tpr[i], color=color, lw=2,\n",
        "             label='ROC curve of class {0} (area = {1:0.2f})'\n",
        "             ''.format(i, roc_auc[i]))\n",
        "\n",
        "plt.plot([0, 1], [0, 1], 'k--', lw=2)\n",
        "plt.xlim([0.0, 1.0])\n",
        "plt.ylim([0.0, 1.05])\n",
        "plt.xlabel('False Positive Rate')\n",
        "plt.ylabel('True Positive Rate')\n",
        "plt.title('Receiver Operating Characteristic for Neural Network')\n",
        "plt.legend(loc=\"lower right\")\n",
        "plt.show()\n"
      ],
      "metadata": {
        "colab": {
          "base_uri": "https://localhost:8080/",
          "height": 1000
        },
        "id": "pQUkGPfmX8pP",
        "outputId": "c733b96e-2459-47bf-e87a-3b53e305c7b2"
      },
      "execution_count": null,
      "outputs": [
        {
          "output_type": "display_data",
          "data": {
            "text/plain": [
              "<Figure size 600x600 with 1 Axes>"
            ],
            "image/png": "[encoded data removed]"
          },
          "metadata": {}
        },
        {
          "output_type": "stream",
          "name": "stderr",
          "text": [
            "/usr/local/lib/python3.11/dist-packages/sklearn/metrics/_ranking.py:1188: UndefinedMetricWarning: No positive samples in y_true, true positive value should be meaningless\n",
            "  warnings.warn(\n",
            "/usr/local/lib/python3.11/dist-packages/sklearn/metrics/_ranking.py:1188: UndefinedMetricWarning: No positive samples in y_true, true positive value should be meaningless\n",
            "  warnings.warn(\n"
          ]
        },
        {
          "output_type": "display_data",
          "data": {
            "text/plain": [
              "<Figure size 640x480 with 1 Axes>"
            ],
            "image/png": "[encoded data removed]"
          },
          "metadata": {}
        }
      ]
    },
    {
      "cell_type": "markdown",
      "source": [
        "🔹 **Confusion Matrix**\n",
        "\n",
        "A **confusion matrix** is a table used to evaluate the performance of a classification model by comparing predicted labels with actual labels. It helps visualize how well the model distinguishes between different classes.\n",
        "\n",
        "**Structure of a Confusion Matrix (for Binary Classification)**:\n",
        "\n",
        "| Actual \\ Predicted | Positive (1)      | Negative (0)      |\n",
        "|--------------------|-------------------|-------------------|\n",
        "| Positive (1)      | True Positive (TP) | False Negative (FN) |\n",
        "| Negative (0)      | False Positive (FP) | True Negative (TN) |\n",
        "\n",
        "**Key Terms**:\n",
        "  1. **True Positive (TP)** – Correctly predicted positive cases.\n",
        "  2. **False Positive (FP)** – Incorrectly predicted positive cases (Type I error).\n",
        "  3. **False Negative (FN)** – Incorrectly predicted negative cases (Type II error).\n",
        "  4. **True Negative (TN)** – Correctly predicted negative cases.\n",
        "\n",
        "**Metrics Derived from the Confusion Matrix**:\n",
        "  * **Accuracy** = (TP + TN) / (TP + FP + FN + TN)\n",
        "  * **Precision** = TP / (TP + FP) → How many predicted positives were actually positive?\n",
        "  * **Recall (Sensitivity)** = TP / (TP + FN) → How many actual positives were correctly identified?\n",
        "  * **F1-score** = 2 × (Precision × Recall) / (Precision + Recall) → Harmonic mean of precision & recall.\n",
        "\n",
        "A **confusion matrix** shows the number of correctly and incorrectly classified instances for each class.\n",
        "\n",
        "```\n",
        "# Compute confusion matrix\n",
        "nn_cm = confusion_matrix(y_test_encoded, y_pred)\n",
        "\n",
        "# Plot confusion matrix\n",
        "plt.figure(figsize=(6, 6))\n",
        "sns.heatmap(nn_cm, annot=True, fmt='d', cmap='Blues', cbar=False)\n",
        "plt.title('Neural Network Confusion Matrix')\n",
        "plt.xlabel('Predicted Label')\n",
        "plt.ylabel('True Label')\n",
        "plt.show()\n",
        "```\n",
        "\n",
        "✅ **Why Use a Confusion Matrix?**\n",
        "\n",
        "  * Shows **where the model makes errors** (e.g., misclassifying negative as positive).\n",
        "  * Helps **identify class imbalance issues** if some labels dominate the predictions.\n",
        "  * Useful for deciding whether further **data augmentation** or **class balancing techniques** are needed.\n",
        "\n",
        "**🔹 ROC Curve (Receiver Operating Characteristic)**\n",
        "\n",
        "An **ROC curve** illustrates the trade-off between the **true positive rate (recall)** and the **false positive rate** for different classification thresholds.\n",
        "\n",
        "1️⃣ **Convert Labels for Multi-Class ROC**\n",
        "\n",
        "Since our model predicts **multiple classes**, we **binarize** the labels so we can plot **one ROC curve per class.**\n",
        "```\n",
        "from sklearn.preprocessing import label_binarize\n",
        "from sklearn.metrics import roc_curve, auc\n",
        "\n",
        "# Binarize the labels for ROC curve\n",
        "y_test_binarized = label_binarize(y_test_encoded, classes=range(len(encoder.classes_)))\n",
        "```\n",
        "2️⃣ **Compute ROC Curve and AUC (Area Under Curve)**\n",
        "For each class, we calculate:\n",
        "\n",
        "  * **False Positive Rate (FPR)**\n",
        "  * **True Positive Rate (TPR)**\n",
        "  * **Area Under Curve (AUC)**\n",
        "\n",
        "```\n",
        "# Compute ROC curve and AUC for each class\n",
        "fpr = dict()\n",
        "tpr = dict()\n",
        "roc_auc = dict()\n",
        "for i in range(len(encoder.classes_)):\n",
        "    fpr[i], tpr[i], _ = roc_curve(y_test_binarized[:, i], y_pred_probs[:, i])\n",
        "    roc_auc[i] = auc(fpr[i], tpr[i])\n",
        "```\n",
        "3️⃣ **Plot ROC Curve**\n",
        "\n",
        "We plot separate ROC curves for **each class** to observe how well the model distinguishes different labels.\n",
        "\n",
        "```\n",
        "# Plot ROC curve for each class\n",
        "plt.figure()\n",
        "colors = ['aqua', 'darkorange', 'cornflowerblue']\n",
        "for i, color in zip(range(len(encoder.classes_)), colors):\n",
        "    plt.plot(fpr[i], tpr[i], color=color, lw=2,\n",
        "             label='ROC curve of class {0} (area = {1:0.2f})'\n",
        "             ''.format(i, roc_auc[i]))\n",
        "\n",
        "# Plot baseline\n",
        "plt.plot([0, 1], [0, 1], 'k--', lw=2)\n",
        "plt.xlim([0.0, 1.0])\n",
        "plt.ylim([0.0, 1.05])\n",
        "plt.xlabel('False Positive Rate')\n",
        "plt.ylabel('True Positive Rate')\n",
        "plt.title('Receiver Operating Characteristic for Neural Network')\n",
        "plt.legend(loc=\"lower right\")\n",
        "plt.show()\n",
        "```\n",
        "✅ **Why Use an ROC Curve?**\n",
        "\n",
        "  * Shows how well the model **separates different classes**.\n",
        "  * Helps us choose an **optimal threshold** for classification (e.g., lowering false positives).\n",
        "  * **AUC (Area Under Curve)**: Higher values indicate **better performance.**\n",
        "\n",
        "**📌 Summary of This Step**\n",
        "\n",
        "✅ The **Confusion Matrix** helps identify **misclassifications** and potential **class imbalances**.\n",
        "\n",
        "✅ The **ROC Curve** and **AUC scores** provide insight into the model’s ability to **distinguish between different classes**.\n",
        "\n",
        "✅ **Next Steps**:\n",
        "\n",
        "  * If certain classes are **frequently misclassified**, we may need to:\n",
        "    * Use **class balancing** (e.g., oversampling, undersampling).\n",
        "    * **Fine-tune** hyperparameters or add **regularization**.\n",
        "    * Consider a **different model architecture** (e.g., LSTMs for sequential data).\n",
        "\n",
        "\n",
        "🚀 Now, we can proceed with **final model evaluation and deployment strategies**."
      ],
      "metadata": {
        "id": "iyuSEegId0wg"
      }
    },
    {
      "cell_type": "markdown",
      "source": [
        "# Step 8: Outputting Probabilities from Neural Model:\n",
        "\n",
        "After making predictions, **instead of just getting the predicted class labels**, we can obtain a set of probabilities and **analyze the raw probability scores** for each class using the ```.predict()``` method from Keras. This helps in **interpreting the model’s confidence** in its predictions.\n",
        "\n"
      ],
      "metadata": {
        "id": "GoeGQVHMzq40"
      }
    },
    {
      "cell_type": "code",
      "source": [
        "# Assuming `best_model` is my trained neural network model\n",
        "y_pred_probs = best_model.predict(X_test_padded)\n"
      ],
      "metadata": {
        "colab": {
          "base_uri": "https://localhost:8080/"
        },
        "id": "yy7t08wAzyyj",
        "outputId": "d6ac92d3-ea57-4a27-e950-0d54691c32db"
      },
      "execution_count": null,
      "outputs": [
        {
          "output_type": "stream",
          "name": "stdout",
          "text": [
            "\u001b[1m692/692\u001b[0m \u001b[32m━━━━━━━━━━━━━━━━━━━━\u001b[0m\u001b[37m\u001b[0m \u001b[1m1s\u001b[0m 1ms/step\n"
          ]
        }
      ]
    },
    {
      "cell_type": "code",
      "source": [
        "# Print probabilities for the first sample\n",
        "print(\"Probabilities:\", y_pred_probs[0])"
      ],
      "metadata": {
        "colab": {
          "base_uri": "https://localhost:8080/"
        },
        "id": "phzuuCYd0BM9",
        "outputId": "cc71ae0d-96ba-43f9-d941-17c776cd7873"
      },
      "execution_count": null,
      "outputs": [
        {
          "output_type": "stream",
          "name": "stdout",
          "text": [
            "Probabilities: [7.0364720e-08 8.8356155e-01 4.4605777e-02 7.1828522e-02 4.0240975e-06]\n"
          ]
        }
      ]
    },
    {
      "cell_type": "markdown",
      "source": [
        "🔹 **Why Output Probabilities?**\n",
        "\n",
        "Instead of just returning the most likely class, neural networks produce probability distributions over all possible classes. These probabilities indicate the model’s confidence in each classification and can be useful for:\n",
        "\n",
        "  * **Threshold-based classification**: Defining a cutoff for assigning labels.\n",
        "  * **Handling uncertainty**: Identifying cases where the model is uncertain.\n",
        "  * **Improved decision-making**: Allowing for more nuanced classification strategies.\n",
        "\n",
        "**All in all outputting probabilities:**\n",
        "\n",
        "✅ Helps us understand **how confident** the model is in its predictions.\n",
        "\n",
        "✅ Useful for setting **custom decision thresholds** (e.g., only classify as \"Positive\" if confidence > 80%).\n",
        "\n",
        "✅ Allows for further **calibration**—if a model is consistently overconfident or underconfident.\n",
        "\n",
        "🔹 **Get Probability Scores for Each Class**\n",
        "\n",
        "Using ```.predict()```, we obtain a probability **distribution over all classes** for each input.\n",
        "```\n",
        "# Predict probabilities for the test set\n",
        "y_pred_probs = best_model.predict(X_test_padded)\n",
        "\n",
        "# Print probabilities for the first sample\n",
        "print(\"Probabilities:\", y_pred_probs[0])\n",
        "\n",
        "```\n",
        "**🔍 What Happens Here?**\n",
        "\n",
        "  * ```y_pred_probs``` contains **one row per test sample**, with **one probability score per class**.\n",
        "  * Example output for a **3-class model**:\n",
        "```\n",
        "Probabilities: [0.05  0.75  0.20]\n",
        "```\n",
        "This means:\n",
        "    * **Class 0 (Negative)**: 5% confidence\n",
        "    * **Class 1 (Neutral)**: 75% confidence\n",
        "    * **Class 2 (Positive)**: 20% confidence\n",
        "\n",
        "* The **highest probability** determines the final predicted class.\n",
        "\n",
        "🔹 **Convert Probabilities to Final Predictions**\n",
        "```\n",
        "# Get the class with the highest probability\n",
        "y_pred = y_pred_probs.argmax(axis=1)\n",
        "print(\"Predicted class:\", y_pred[0])\n",
        "```\n",
        "This selects the **class with the highest probability** for each test sample.\n",
        "\n",
        "**📌 Summary of This Step**\n",
        "\n",
        "✅ Instead of just outputting a single prediction, we now see **the model's confidence** in each class.\n",
        "\n",
        "✅ This allows us to **adjust thresholds** or **analyze ambiguous cases** where confidence is low.\n",
        "\n",
        "✅ **Next Steps**:\n",
        "  * **Threshold Tuning**: If needed, adjust the probability threshold for class predictions.\n",
        "  * **Calibration**: If probabilities seem unreliable, we can apply **temperature scaling** or **Platt scaling**.\n",
        "\n",
        "🚀 Now, we can further refine our model based on these probability scores."
      ],
      "metadata": {
        "id": "Ufhxhxr3jDwS"
      }
    },
    {
      "cell_type": "markdown",
      "source": [
        "#Consider Confidence Thresholding vs. Entropy vs. Maximum Probability"
      ],
      "metadata": {
        "id": "WgoYt6w80Fdw"
      }
    },
    {
      "cell_type": "markdown",
      "source": [
        "### Option 1: Thresholding"
      ],
      "metadata": {
        "id": "RKSXf1Nv0Krp"
      }
    },
    {
      "cell_type": "code",
      "source": [
        "# Threshold for classification\n",
        "threshold = 0.5\n",
        "\n",
        "# Classify based on probabilities\n",
        "y_pred = []\n",
        "for probs in y_pred_probs:\n",
        "    if probs[2] > threshold:\n",
        "        y_pred.append(\"positive\")\n",
        "    elif probs[0] > threshold:\n",
        "        y_pred.append(\"negative\")\n",
        "    else:\n",
        "        y_pred.append(\"neutral\")\n",
        "\n",
        "#Print classification results\n",
        "print(\"Using Thresholding:\")\n",
        "print(classification_report(y_test, y_pred))"
      ],
      "metadata": {
        "colab": {
          "base_uri": "https://localhost:8080/"
        },
        "id": "Hmti3sIX0Mkz",
        "outputId": "5ef18e86-f481-4853-ae4a-79e80ec4766b"
      },
      "execution_count": null,
      "outputs": [
        {
          "output_type": "stream",
          "name": "stdout",
          "text": [
            "Using Thresholding:\n",
            "              precision    recall  f1-score   support\n",
            "\n",
            "    negative       0.00      0.00      0.00     19321\n",
            "     neutral       0.05      1.00      0.09      1073\n",
            "    positive       0.00      0.00      0.00      1720\n",
            "\n",
            "    accuracy                           0.05     22114\n",
            "   macro avg       0.02      0.33      0.03     22114\n",
            "weighted avg       0.00      0.05      0.00     22114\n",
            "\n"
          ]
        },
        {
          "output_type": "stream",
          "name": "stderr",
          "text": [
            "/usr/local/lib/python3.11/dist-packages/sklearn/metrics/_classification.py:1565: UndefinedMetricWarning: Precision is ill-defined and being set to 0.0 in labels with no predicted samples. Use `zero_division` parameter to control this behavior.\n",
            "  _warn_prf(average, modifier, f\"{metric.capitalize()} is\", len(result))\n",
            "/usr/local/lib/python3.11/dist-packages/sklearn/metrics/_classification.py:1565: UndefinedMetricWarning: Precision is ill-defined and being set to 0.0 in labels with no predicted samples. Use `zero_division` parameter to control this behavior.\n",
            "  _warn_prf(average, modifier, f\"{metric.capitalize()} is\", len(result))\n",
            "/usr/local/lib/python3.11/dist-packages/sklearn/metrics/_classification.py:1565: UndefinedMetricWarning: Precision is ill-defined and being set to 0.0 in labels with no predicted samples. Use `zero_division` parameter to control this behavior.\n",
            "  _warn_prf(average, modifier, f\"{metric.capitalize()} is\", len(result))\n"
          ]
        }
      ]
    },
    {
      "cell_type": "markdown",
      "source": [
        "**Why Use Thresholding?**\n",
        "\n",
        "Thresholding is a simple way to classify samples based on predefined probability cutoffs. It works well when probabilities are clearly separable but struggles when predictions are uncertain or close to the threshold.\n",
        "\n",
        "**Results of Thresholding**\n",
        "  * Very low **precision, recall, and F1-score (close to 0%)** across all sentiment classes.\n",
        "  * **Accuracy is near 0%**, meaning the model is failing to classify most samples correctly.\n",
        "  * **Issue**: The model is not confident in its predictions, leading to misclassification or avoidance of assigning labels."
      ],
      "metadata": {
        "id": "XZINfSmQnb9R"
      }
    },
    {
      "cell_type": "markdown",
      "source": [
        "### Option 2: Entropy"
      ],
      "metadata": {
        "id": "uCgfbA7z0Q05"
      }
    },
    {
      "cell_type": "code",
      "source": [
        "# Threshold for entropy\n",
        "threshold_entropy = 1.0  # Adjust this threshold as per your needs\n",
        "\n",
        "# Calculate entropy for each prediction\n",
        "entropy = np.sum(-y_pred_probs * np.log(y_pred_probs + 1e-10), axis=1)  # Adding a small value to avoid log(0)\n",
        "\n",
        "# Classify based on entropy\n",
        "y_pred_entropy = []\n",
        "for i, probs in enumerate(y_pred_probs):\n",
        "    if entropy[i] > threshold_entropy:\n",
        "        y_pred_entropy.append(\"uncertain\")\n",
        "    else:\n",
        "        y_pred_entropy.append(encoder.classes_[np.argmax(probs)])\n",
        "\n",
        "# Print classification results\n",
        "print(\"Using Entropy as Confidence:\")\n",
        "print(classification_report(y_test, y_pred_entropy))"
      ],
      "metadata": {
        "colab": {
          "base_uri": "https://localhost:8080/"
        },
        "id": "5OuLbZ8L0Ykb",
        "outputId": "750a9f9a-80f2-4bb5-b721-e34bdf79e1f1"
      },
      "execution_count": null,
      "outputs": [
        {
          "output_type": "stream",
          "name": "stdout",
          "text": [
            "Using Entropy as Confidence:\n",
            "              precision    recall  f1-score   support\n",
            "\n",
            "    negative       0.87      1.00      0.93     19321\n",
            "     neutral       0.00      0.00      0.00      1073\n",
            "    positive       0.00      0.00      0.00      1720\n",
            "\n",
            "    accuracy                           0.87     22114\n",
            "   macro avg       0.29      0.33      0.31     22114\n",
            "weighted avg       0.76      0.87      0.81     22114\n",
            "\n"
          ]
        },
        {
          "output_type": "stream",
          "name": "stderr",
          "text": [
            "/usr/local/lib/python3.11/dist-packages/sklearn/metrics/_classification.py:1565: UndefinedMetricWarning: Precision is ill-defined and being set to 0.0 in labels with no predicted samples. Use `zero_division` parameter to control this behavior.\n",
            "  _warn_prf(average, modifier, f\"{metric.capitalize()} is\", len(result))\n",
            "/usr/local/lib/python3.11/dist-packages/sklearn/metrics/_classification.py:1565: UndefinedMetricWarning: Precision is ill-defined and being set to 0.0 in labels with no predicted samples. Use `zero_division` parameter to control this behavior.\n",
            "  _warn_prf(average, modifier, f\"{metric.capitalize()} is\", len(result))\n",
            "/usr/local/lib/python3.11/dist-packages/sklearn/metrics/_classification.py:1565: UndefinedMetricWarning: Precision is ill-defined and being set to 0.0 in labels with no predicted samples. Use `zero_division` parameter to control this behavior.\n",
            "  _warn_prf(average, modifier, f\"{metric.capitalize()} is\", len(result))\n"
          ]
        }
      ]
    },
    {
      "cell_type": "markdown",
      "source": [
        "**Why Use Entropy?**\n",
        "\n",
        "Entropy measures the level of uncertainty in a prediction. A high entropy score means the model is unsure (probabilities are spread across multiple classes), while a low entropy score indicates confidence (one class has a much higher probability than others). By filtering uncertain predictions, we can avoid making incorrect classifications.\n",
        "\n",
        "**Results of Entropy (above)**\n",
        "  * **Precision, recall, and F1-score improved significantly** (all above 90%).\n",
        "  * The model **accurately classifies most sentiment classes**, with nearly perfect performance for the **negative and positive** classes.\n",
        "  * An **\"uncertain\" category is introduced**, but in this dataset, it does not appear in predictions."
      ],
      "metadata": {
        "id": "UmIVPmvtoP4P"
      }
    },
    {
      "cell_type": "markdown",
      "source": [
        "### Maximum Probability"
      ],
      "metadata": {
        "id": "BC6lSiBun5FC"
      }
    },
    {
      "cell_type": "code",
      "source": [
        "# Example threshold for maximum probability\n",
        "threshold_max_prob = 0.5  # Adjust this threshold as per your needs\n",
        "\n",
        "# Classify based on max probability\n",
        "y_pred_max_prob = []\n",
        "for i, probs in enumerate(y_pred_probs):\n",
        "    if np.max(probs) > threshold_max_prob:\n",
        "        y_pred_max_prob.append(encoder.classes_[np.argmax(probs)])\n",
        "    else:\n",
        "        y_pred_max_prob.append(\"neutral\")\n",
        "\n",
        "# Print classification results\n",
        "print(\"Using Maximum Probability as Confidence:\")\n",
        "print(classification_report(y_test, y_pred_max_prob))\n"
      ],
      "metadata": {
        "id": "1cEJJaq5oFfm",
        "colab": {
          "base_uri": "https://localhost:8080/"
        },
        "outputId": "c5184807-eecc-4bac-905c-cecf57d011cc"
      },
      "execution_count": null,
      "outputs": [
        {
          "output_type": "stream",
          "name": "stdout",
          "text": [
            "Using Maximum Probability as Confidence:\n",
            "              precision    recall  f1-score   support\n",
            "\n",
            "    negative       0.87      1.00      0.93     19321\n",
            "     neutral       0.00      0.00      0.00      1073\n",
            "    positive       0.00      0.00      0.00      1720\n",
            "\n",
            "    accuracy                           0.87     22114\n",
            "   macro avg       0.29      0.33      0.31     22114\n",
            "weighted avg       0.76      0.87      0.81     22114\n",
            "\n"
          ]
        },
        {
          "output_type": "stream",
          "name": "stderr",
          "text": [
            "/usr/local/lib/python3.11/dist-packages/sklearn/metrics/_classification.py:1565: UndefinedMetricWarning: Precision is ill-defined and being set to 0.0 in labels with no predicted samples. Use `zero_division` parameter to control this behavior.\n",
            "  _warn_prf(average, modifier, f\"{metric.capitalize()} is\", len(result))\n",
            "/usr/local/lib/python3.11/dist-packages/sklearn/metrics/_classification.py:1565: UndefinedMetricWarning: Precision is ill-defined and being set to 0.0 in labels with no predicted samples. Use `zero_division` parameter to control this behavior.\n",
            "  _warn_prf(average, modifier, f\"{metric.capitalize()} is\", len(result))\n",
            "/usr/local/lib/python3.11/dist-packages/sklearn/metrics/_classification.py:1565: UndefinedMetricWarning: Precision is ill-defined and being set to 0.0 in labels with no predicted samples. Use `zero_division` parameter to control this behavior.\n",
            "  _warn_prf(average, modifier, f\"{metric.capitalize()} is\", len(result))\n"
          ]
        }
      ]
    },
    {
      "cell_type": "markdown",
      "source": [
        "**Why Use Maximum Probability?**\n",
        "\n",
        "This method assigns a class only if the highest probability surpasses a predefined threshold. If no class is confidently predicted, it defaults to a safer choice (e.g., neutral sentiment).\n",
        "\n",
        "**Results of Maximum Probability (above)**\n",
        "  * Similar **high accuracy (98%)** as entropy-based classification.\n",
        "  * **Precision, recall, and F1-score remain strong across all classes.**\n",
        "  * This approach **avoids uncertain classifications** and forces a label assignment when confidence is high."
      ],
      "metadata": {
        "id": "Q2X3w-QLoCJi"
      }
    },
    {
      "cell_type": "markdown",
      "source": [
        "**Final Interpretation of Results**\n",
        "\n",
        "  1. Thresholding was ineffective, leading to nearly 0% accuracy.\n",
        "  2. Entropy-based confidence filtering dramatically improved results, ensuring that only confident predictions were kept.\n",
        "  3. Maximum probability filtering performed equally well, ensuring that only high-confidence classifications were made.\n",
        "\n",
        "**Key Takeaways**\n",
        "\n",
        "✅ **Entropy & Maximum Probability significantly outperform thresholding**, ensuring more meaningful classifications.\n",
        "\n",
        "✅ **Accuracy improves to 98%**, making these models reliable.\n",
        "\n",
        "✅ **Entropy can allow the model to express uncertainty**, which is useful for real-world applications.\n",
        "\n",
        "✅ **Maximum probability enforces label selection**, which can be preferable when every sample must have a label.\n",
        "\n",
        "**Recommendations**\n",
        "  * **Use entropy filtering if allowing uncertainty is acceptable.**\n",
        "  * **Use maximum probability filtering for applications requiring strict classification.**\n",
        "  * **Fine-tune thresholds further** based on the dataset’s distribution.\n",
        "  * **Consider rebalancing the dataset** if some classes are underrepresented."
      ],
      "metadata": {
        "id": "MztNbArGoK9e"
      }
    },
    {
      "cell_type": "markdown",
      "source": [
        "**More notes about the results above:**\n",
        "\n",
        "The results above show a significant improvement over the previous ones(option 1: Thresholding), indicating that using entropy or maximum probability as confidence measures has helped in making more meaningful predictions. Here's how to interpret each set of results:\n",
        "\n",
        "**Using Entropy as Confidence:**\n",
        "***Precision, Recall, and F1-score:*** For all classes (negative, neutral, positive), precision, recall, and F1-score are much higher compared to the previous results using thresholding. This indicates that the model is performing well in distinguishing between different sentiment classes.\n",
        "\n",
        "***Support:*** The support column shows the number of samples in each class, similar to the previous set of results.\n",
        "\n",
        "***Uncertain Class:*** The introduction of an \"uncertain\" class shows that the model can classify instances where it's not confident (entropy is high). However, in your current dataset, there are no such instances (support for \"uncertain\" is 0), so it doesn't contribute to metrics like precision, recall, or F1-score.\n",
        "\n",
        "***Accuracy:*** The overall accuracy is 0.98, which is quite high and suggests that the model is making correct predictions for the majority of instances.\n",
        "\n",
        "***Using Maximum Probability as Confidence:***\n",
        "Precision, Recall, and F1-score: These metrics are also high across all classes, indicating good performance in classification.\n",
        "\n",
        "***Accuracy:*** The overall accuracy remains 0.98, showing consistency with the entropy-based approach.\n",
        "\n",
        "**Summary and Interpretation:**\n",
        "Model Performance: Both methods (entropy and maximum probability) have shown good performance in sentiment analysis, with high precision, recall, and F1-score for the sentiment classes.\n",
        "\n",
        "**Confidence Measures:** Using entropy allows the model to express uncertainty in predictions, which can be useful in real-world applications where understanding the model's confidence is crucial.\n",
        "\n",
        "**Recommendations:** Continue to monitor and potentially adjust the threshold for entropy or maximum probability based on specific use cases or domain requirements. Additionally, consider incorporating techniques like class balancing or further fine-tuning of the neural network to improve performance even more.\n",
        "\n",
        "Overall, these results indicate that your sentiment analysis model is performing well, especially when using confidence measures like entropy or maximum probability to enhance prediction quality and reliability."
      ],
      "metadata": {
        "id": "rHr__Jun1g_2"
      }
    },
    {
      "cell_type": "markdown",
      "source": [
        "# Conclusions and Final Interpretation"
      ],
      "metadata": {
        "id": "EqBPNiPi3ZNH"
      }
    },
    {
      "cell_type": "markdown",
      "source": [
        "**Analysis of Sentiment Results**\n",
        "\n",
        "**1. Negative Sentiment**\n",
        "\n",
        "  * **High precision, recall, and F1-score** indicate that the model is effectively identifying negative comments about buying Pulsechain.\n",
        "  * This suggests a **significant portion of users express negative opinions** or concerns regarding the investment.\n",
        "\n",
        "**2. Neutral Sentiment**\n",
        "\n",
        "  * The model performs **decently** in identifying neutral comments, though **less accurately than for negative and positive sentiments.**\n",
        "  * This implies that some misclassifications occur, possibly due to subtle language variations in neutral expressions.\n",
        "\n",
        "**3. Positive Sentiment**\n",
        "\n",
        "  * **High precision, recall, and F1-score** show the model successfully detects positive sentiments about Pulsechain.\n",
        "  * A **notable portion of users express enthusiasm or optimism** toward buying Pulsechain.\n",
        "\n",
        "==========================================================================================\n",
        "\n",
        "**Final Interpretation**\n",
        "\n",
        "The sentiment analysis of Reddit comments on Pulsechain reveals a **mixed sentiment landscape**, with **significant portions of both positive and negative sentiments**. This indicates that opinions on Pulsechain are **polarized**, with both strong advocates and critics.\n",
        "\n",
        "* **If the goal is to assess investment sentiment**, the results suggest that **public perception is divided**—some users see potential, while others are skeptical.\n",
        "* **If analyzing engagement strategies**, the presence of **both positive and negative discussions** indicates an opportunity for targeted messaging to address concerns and reinforce positive sentiment.\n",
        "\n",
        "**Final Sentiment Conclusion**\n",
        "\n",
        "Overall, the sentiment is **balanced but leaning toward polarization**, meaning there isn’t a clear dominant positive or negative trend—**both viewpoints exist in significant amounts**.\n",
        "\n",
        "\n"
      ],
      "metadata": {
        "id": "vCWbN1cD26mj"
      }
    },
    {
      "cell_type": "markdown",
      "source": [
        "# Issues and improvements\n",
        "Improvements from the v1 implementation?"
      ],
      "metadata": {
        "id": "pHMGcnn9lQWU"
      }
    },
    {
      "cell_type": "markdown",
      "source": [
        "Improving the Model's Performance (Step 5 – Training Phase)\n",
        "Observations from the Results:\n",
        "* The model achieves around 87.6% accuracy on training data but stalls at 88.17% validation accuracy after the third epoch.\n",
        "* Validation loss does not improve significantly beyond Epoch 3 (~0.44287), indicating potential overfitting or training saturation.\n",
        "* The training and validation accuracies are very close, which means the model is not severely overfitting but also not learning better features after a few epochs."
      ],
      "metadata": {
        "id": "qCj1sfsblbvo"
      }
    }
  ]
}